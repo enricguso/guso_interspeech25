{
 "cells": [
  {
   "cell_type": "code",
   "execution_count": 1,
   "id": "6fa9f6c8-ef96-4d2e-a361-ec2e289822ed",
   "metadata": {},
   "outputs": [],
   "source": [
    "import soundfile as sf\n",
    "import numpy as np\n",
    "import os\n",
    "from os.path import join as pjoin\n",
    "import tqdm\n",
    "import pandas as pd"
   ]
  },
  {
   "cell_type": "code",
   "execution_count": 2,
   "id": "aa9ab711-d5ed-43f7-8ea1-19a9981ea79d",
   "metadata": {},
   "outputs": [],
   "source": [
    "dataset_path = '/home/ubuntu/Data/guso_in24_rirs/'\n",
    "df = pd.read_csv(pjoin(dataset_path, 'meta_ins24.csv'))"
   ]
  },
  {
   "cell_type": "code",
   "execution_count": 3,
   "id": "14e26f39-995f-4611-a8b8-4d90061a63ae",
   "metadata": {},
   "outputs": [],
   "source": [
    "sets = ['train', 'val', 'test']"
   ]
  },
  {
   "cell_type": "code",
   "execution_count": 4,
   "id": "a78ff005-07af-4055-b8e3-6ba2d93f37a5",
   "metadata": {},
   "outputs": [],
   "source": [
    "folders = os.listdir(pjoin(dataset_path, 'train'))"
   ]
  },
  {
   "cell_type": "code",
   "execution_count": 5,
   "id": "b820d4b1-8638-4388-9fef-920604e8f191",
   "metadata": {},
   "outputs": [],
   "source": [
    "out = '/home/ubuntu/Data/'"
   ]
  },
  {
   "cell_type": "code",
   "execution_count": 6,
   "id": "48abd97a-ebae-4435-9295-9683ac71c366",
   "metadata": {},
   "outputs": [],
   "source": [
    "train = df[df['set'] == 'train']\n",
    "val  = df[df['set'] == 'val']\n",
    "test = df[df['set'] == 'test']"
   ]
  },
  {
   "cell_type": "code",
   "execution_count": 7,
   "id": "10500e0b-637e-4984-9668-1affe54b798d",
   "metadata": {},
   "outputs": [],
   "source": [
    "folders = ['recsourcedirectivityHA_right']"
   ]
  },
  {
   "cell_type": "code",
   "execution_count": 8,
   "id": "50d16ed2-42d9-468c-b7ae-c80bc7a55c89",
   "metadata": {},
   "outputs": [
    {
     "name": "stderr",
     "output_type": "stream",
     "text": [
      "100%|████████████████████████████████████████████████████████████████████████████████████████████████████████████████████████| 41974/41974 [16:34<00:00, 42.21it/s]\n",
      "100%|██████████████████████████████████████████████████████████████████████████████████████████████████████████████████████████| 8993/8993 [04:23<00:00, 34.19it/s]\n",
      "100%|██████████████████████████████████████████████████████████████████████████████████████████████████████████████████████████| 8997/8997 [05:19<00:00, 28.14it/s]\n"
     ]
    }
   ],
   "source": [
    "for set in sets:\n",
    "    for folder in folders:\n",
    "        files = os.listdir(pjoin(pjoin(dataset_path, set), folder))\n",
    "        for file in tqdm.tqdm(files):\n",
    "            file_path = pjoin(pjoin(pjoin(dataset_path, set), folder), file)\n",
    "            audio, fs = sf.read(file_path)\n",
    "            if fs != 48000:\n",
    "                print(file, 'fs')\n",
    "            if len(audio) == 0:\n",
    "                print(file, 'len')\n",
    "            if np.any(audio > 1.0):\n",
    "                print(file, 'clip')\n",
    "            if np.any(audio < -1.0):\n",
    "                print(file, 'clip')\n",
    "            if np.any(np.isnan(audio)):\n",
    "                print(file, 'nan')"
   ]
  },
  {
   "cell_type": "code",
   "execution_count": 19,
   "id": "4613ceec-7ccb-4847-adee-1cc07f5d5739",
   "metadata": {},
   "outputs": [],
   "source": [
    "x, _ =sf.read(pjoin(pjoin(pjoin(dataset_path, 'train'), folder), 'recsourcedirectivityHA_right_08321 .wav'))"
   ]
  },
  {
   "cell_type": "code",
   "execution_count": 15,
   "id": "c9ae1fdf-524c-4e78-bfcc-972ca7039efc",
   "metadata": {},
   "outputs": [],
   "source": [
    "import matplotlib.pyplot as plt"
   ]
  },
  {
   "cell_type": "code",
   "execution_count": 20,
   "id": "8766d316-ad29-40f2-998d-302d14b66ba1",
   "metadata": {},
   "outputs": [
    {
     "data": {
      "text/plain": [
       "[<matplotlib.lines.Line2D at 0x7fc2e45e81c0>]"
      ]
     },
     "execution_count": 20,
     "metadata": {},
     "output_type": "execute_result"
    },
    {
     "data": {
      "image/png": "[encoded data removed]",
      "text/plain": [
       "<Figure size 640x480 with 1 Axes>"
      ]
     },
     "metadata": {},
     "output_type": "display_data"
    }
   ],
   "source": [
    "plt.plot(x)"
   ]
  },
  {
   "cell_type": "code",
   "execution_count": null,
   "id": "0b8be41c-8dbd-4fa8-b08f-b215c73a22e0",
   "metadata": {},
   "outputs": [],
   "source": []
  },
  {
   "cell_type": "code",
   "execution_count": null,
   "id": "f6d60431-ee4c-4fe6-92bb-063b5cad9020",
   "metadata": {},
   "outputs": [],
   "source": []
  },
  {
   "cell_type": "code",
   "execution_count": null,
   "id": "86698f5b-171b-469a-a123-795a490a53aa",
   "metadata": {},
   "outputs": [],
   "source": []
  },
  {
   "cell_type": "code",
   "execution_count": null,
   "id": "9205037a-dc37-43bf-932c-8c9bc3ddf845",
   "metadata": {},
   "outputs": [],
   "source": [
    "nan_idxs[0].split('/')[-1]"
   ]
  },
  {
   "cell_type": "code",
   "execution_count": null,
   "id": "4a336a25-e127-4af4-b27d-00909f4ec872",
   "metadata": {},
   "outputs": [],
   "source": [
    "wrong = [x.split('/')[-1] for x in nan_idxs]"
   ]
  },
  {
   "cell_type": "code",
   "execution_count": null,
   "id": "0d97b2c3-36e7-4f33-ba9d-816aea1ff7a6",
   "metadata": {},
   "outputs": [],
   "source": [
    "for set in sets:\n",
    "    for folder in folders:\n",
    "        files = os.listdir(pjoin(pjoin(dataset_path, set), folder))\n",
    "        for f in files:\n",
    "            if f in wrong:\n",
    "                print('removing: ')\n",
    "                print(pjoin(pjoin(pjoin(dataset_path, set), folder), f))\n",
    "                os.remove(pjoin(pjoin(pjoin(dataset_path, set), folder), f))"
   ]
  },
  {
   "cell_type": "code",
   "execution_count": null,
   "id": "cbe9a9bd-3820-4f5a-8d89-41e29d8e51ae",
   "metadata": {},
   "outputs": [],
   "source": [
    "import pandas as pd"
   ]
  },
  {
   "cell_type": "code",
   "execution_count": null,
   "id": "99fbe1e2-b7e4-4466-8dfe-4e31f7b44f17",
   "metadata": {},
   "outputs": [],
   "source": [
    "df = pd.read_csv('/home/ubuntu/Data/guso_in24_rirs/meta_ins24.csv')"
   ]
  },
  {
   "cell_type": "code",
   "execution_count": null,
   "id": "cb9bb783-c06f-44f0-bd4f-5a67e9ad6949",
   "metadata": {},
   "outputs": [],
   "source": []
  },
  {
   "cell_type": "code",
   "execution_count": null,
   "id": "70872b76-bfcd-476c-b1bf-ba4e93051d60",
   "metadata": {},
   "outputs": [],
   "source": [
    "]"
   ]
  },
  {
   "cell_type": "code",
   "execution_count": null,
   "id": "d6966f8c-8888-40d1-8809-a7512023fb9a",
   "metadata": {},
   "outputs": [],
   "source": [
    "df"
   ]
  },
  {
   "cell_type": "code",
   "execution_count": null,
   "id": "38ce763c-780e-423c-979b-c7d73c4f62c2",
   "metadata": {},
   "outputs": [],
   "source": [
    "wrong_ids = [int(x.split('.')[0]) for x in wrong]"
   ]
  },
  {
   "cell_type": "code",
   "execution_count": null,
   "id": "267a0455-b048-49d0-8964-2decfa59a318",
   "metadata": {},
   "outputs": [],
   "source": [
    "wrong_ids"
   ]
  },
  {
   "cell_type": "code",
   "execution_count": null,
   "id": "043fc3c7-43c0-43bd-8aa7-7aa87a09b437",
   "metadata": {},
   "outputs": [],
   "source": [
    "for wrong_id in wrong_ids:\n",
    "    df = df.drop(df[df['id'] == wrong_id].index)"
   ]
  },
  {
   "cell_type": "code",
   "execution_count": null,
   "id": "269c99d3-bd61-40ce-bdda-6cc294162bd7",
   "metadata": {},
   "outputs": [],
   "source": [
    "df = df.reset_index(drop=True)"
   ]
  },
  {
   "cell_type": "code",
   "execution_count": null,
   "id": "551676e5-d48a-462e-ab35-bd50a52b6fca",
   "metadata": {},
   "outputs": [],
   "source": [
    "df"
   ]
  },
  {
   "cell_type": "code",
   "execution_count": null,
   "id": "4d07772c-3a84-417f-b889-e25a880f3759",
   "metadata": {},
   "outputs": [],
   "source": [
    "#df = pd.to('/home/ubuntu/Data/guso_in24_rirs/meta_ins24.csv')\n",
    "df.to_csv('/home/ubuntu/Data/guso_in24_rirs/meta_ins24.csv', index=False, compression='infer')"
   ]
  }
 ],
 "metadata": {
  "kernelspec": {
   "display_name": "in24",
   "language": "python",
   "name": "in24"
  },
  "language_info": {
   "codemirror_mode": {
    "name": "ipython",
    "version": 3
   },
   "file_extension": ".py",
   "mimetype": "text/x-python",
   "name": "python",
   "nbconvert_exporter": "python",
   "pygments_lexer": "ipython3",
   "version": "3.8.10"
  }
 },
 "nbformat": 4,
 "nbformat_minor": 5
}
