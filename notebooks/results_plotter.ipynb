{
 "cells": [
  {
   "cell_type": "code",
   "execution_count": null,
   "id": "64c261e9-1a20-4c2c-8551-6798357d9833",
   "metadata": {},
   "outputs": [],
   "source": [
    "import pandas as pd\n",
    "import matplotlib.pyplot as plt\n",
    "import seaborn as sb\n",
    "from os.path import join as pjoin\n",
    "import os\n",
    "import numpy as np\n",
    "import tqdm"
   ]
  },
  {
   "cell_type": "code",
   "execution_count": null,
   "id": "396cce5d-fadd-4484-b42d-b42cd1f2237d",
   "metadata": {},
   "outputs": [],
   "source": [
    "files = os.listdir('../results/results_realRIRs/')"
   ]
  },
  {
   "cell_type": "code",
   "execution_count": null,
   "id": "1bca04b1-0588-4d0f-b22a-f21bbbae7ef8",
   "metadata": {},
   "outputs": [],
   "source": [
    "files = [x for x in files if '.csv' in x]"
   ]
  },
  {
   "cell_type": "code",
   "execution_count": null,
   "id": "a41c2243-d7f9-49e7-bbfd-a3f60e90b8ef",
   "metadata": {},
   "outputs": [],
   "source": [
    "dataframes = []\n",
    "for file in files:\n",
    "    dataframes.append(pd.read_csv(pjoin('../results/results_realRIRs/', file)))\n",
    "\n",
    "files_spk = os.listdir('../results/results_speakerphone')\n",
    "\n",
    "for file in files_spk:\n",
    "    dataframes.append(pd.read_csv(pjoin('../results/results_speakerphone', file)))\n",
    "files_hds = os.listdir('../results/results_headset')\n",
    "for file in files_hds:\n",
    "    dataframes.append(pd.read_csv(pjoin('../results/results_headset', file)))\n",
    "df = pd.concat(dataframes )\n",
    "df = df.reset_index()\n",
    "df = df.rename(columns={'index': 'id'})\n",
    "\n",
    "df = df.replace('DFN3', 'DNS5')\n",
    "df = df.replace('multiband', 'MB')\n",
    "df = df.replace('recdirectivity', 'REC+MB')\n",
    "df = df.replace('recsourcedirectivity', 'SRC+REC+MB')\n",
    "df = df.replace('singleband', 'SB')\n",
    "df = df.replace('soundspaces', 'SSPA')\n",
    "#df = df.dropna()"
   ]
  },
  {
   "cell_type": "code",
   "execution_count": null,
   "id": "6aaa8053-8500-4ab9-96cf-b68d2390c75b",
   "metadata": {
    "scrolled": true
   },
   "outputs": [],
   "source": [
    "columns = ['DNS5', 'SB', 'MB', 'REC+MB', 'SRC+REC+MB', 'SSPA']"
   ]
  },
  {
   "cell_type": "code",
   "execution_count": null,
   "id": "f89dacb0-b60a-43d5-98dd-12a8155f06f7",
   "metadata": {},
   "outputs": [],
   "source": [
    "rows = ['sisdr_i', 'squim_sisdr_i', 'sdr_i', 'lsd_i', 'mcd_i', 'pesq_i', 'pesq2_i', 'squim_pesq_i',\n",
    "        'dnsmos_ovrl_i', 'squim_mos_i', 'nisqa_mos_i', 'stoi_i', 'squim_stoi_i',\n",
    "        'phonsim_i', 'spksim_i', 'sBertSim_i']"
   ]
  },
  {
   "cell_type": "code",
   "execution_count": null,
   "id": "a56f0ffe-1597-4719-9125-3c31e5e6b121",
   "metadata": {},
   "outputs": [],
   "source": [
    "'''\n",
    "r = df[df['eval_rirs']=='real']\n",
    "\n",
    "tab_m = pd.DataFrame(index=range(1, len(rows)+1), columns=['metric']+columns)\n",
    "tab_std = pd.DataFrame(index=range(1, len(rows)+1), columns=['metric']+columns)\n",
    "\n",
    "tab_m['metric'] = rows\n",
    "tab_std['metric'] = rows\n",
    "\n",
    "for c in columns:\n",
    "    subset = r[r['train_rirs']==c]\n",
    "    means = []\n",
    "    stds = []\n",
    "    for metric in rows:\n",
    "        means.append(np.round(np.mean(subset[metric]), 3))\n",
    "        stds.append(np.std(subset[metric]))\n",
    "    tab_m[c] = means\n",
    "    tab_std[c] = stds\n",
    "tab_m.to_csv('../results/table_real_mean.csv')\n",
    "tab_std.to_csv('../results/table_real_std.csv')\n",
    "''';"
   ]
  },
  {
   "cell_type": "code",
   "execution_count": null,
   "id": "2e7e5d95-94c0-455d-ac59-ed3f182bc83b",
   "metadata": {},
   "outputs": [],
   "source": [
    "'''\n",
    "r = df[df['eval_rirs']=='none_headset']\n",
    "\n",
    "tab_m = pd.DataFrame(index=range(1, len(rows)+1), columns=['metric']+columns)\n",
    "tab_std = pd.DataFrame(index=range(1, len(rows)+1), columns=['metric']+columns)\n",
    "\n",
    "tab_m['metric'] = rows\n",
    "tab_std['metric'] = rows\n",
    "\n",
    "for c in columns:\n",
    "    subset = r[r['train_rirs']==c]\n",
    "    means = []\n",
    "    stds = []\n",
    "    for metric in rows:\n",
    "        means.append(np.round(np.mean(subset[metric]), 3))\n",
    "        stds.append(np.std(subset[metric]))\n",
    "    tab_m[c] = means\n",
    "    tab_std[c] = stds\n",
    "tab_m.to_csv('../results/table_headset_mean.csv')\n",
    "tab_std.to_csv('../results/table_headset_std.csv')\n",
    "''';"
   ]
  },
  {
   "cell_type": "code",
   "execution_count": null,
   "id": "171dd813-f657-4707-98d5-70ce502ed40c",
   "metadata": {},
   "outputs": [],
   "source": [
    "'''\n",
    "r = df[df['eval_rirs']=='none_speakerphone']\n",
    "\n",
    "tab_m = pd.DataFrame(index=range(1, len(rows)+1), columns=['metric']+columns)\n",
    "tab_std = pd.DataFrame(index=range(1, len(rows)+1), columns=['metric']+columns)\n",
    "\n",
    "tab_m['metric'] = rows\n",
    "tab_std['metric'] = rows\n",
    "\n",
    "for c in columns:\n",
    "    subset = r[r['train_rirs']==c]\n",
    "    means = []\n",
    "    stds = []\n",
    "    for metric in rows:\n",
    "        means.append(np.round(np.mean(subset[metric]), 3))\n",
    "        stds.append(np.std(subset[metric]))\n",
    "    tab_m[c] = means\n",
    "    tab_std[c] = stds\n",
    "tab_m.to_csv('../results/table_speakerphone_mean.csv')\n",
    "tab_std.to_csv('../results/table_speakerphone_std.csv')\n",
    "''';"
   ]
  },
  {
   "cell_type": "code",
   "execution_count": null,
   "id": "e57d95da-9d13-46bb-b45f-5ab5aa686ed9",
   "metadata": {},
   "outputs": [],
   "source": [
    "ordering = columns"
   ]
  },
  {
   "cell_type": "code",
   "execution_count": null,
   "id": "37143f07-f99e-436d-94b8-d791c2fa525f",
   "metadata": {},
   "outputs": [],
   "source": [
    "re = df[df['eval_rirs']=='real']"
   ]
  },
  {
   "cell_type": "code",
   "execution_count": null,
   "id": "04b8fd4e-4f62-40ef-8ccd-c56b1f624c1a",
   "metadata": {},
   "outputs": [],
   "source": [
    "noisy_snrs = re['noisy_snr']\n",
    "\n",
    "sets = []\n",
    "for value in noisy_snrs:\n",
    "    if value < 10. :\n",
    "        sets.append('5dB')\n",
    "    elif value >= 10.:\n",
    "        if value < 20.:\n",
    "            sets.append('15dB')\n",
    "        elif value >= 20.:\n",
    "            sets.append('25dB')\n",
    "re['snr_sets']=sets"
   ]
  },
  {
   "cell_type": "code",
   "execution_count": null,
   "id": "8e92d74e-cb9d-4283-8d20-8c18f941f3fb",
   "metadata": {
    "scrolled": true
   },
   "outputs": [],
   "source": [
    "sb.barplot(data=re, x='train_rirs', y='mcd_i', hue='snr_sets', order=['SSPA', 'SB', 'MB', 'REC+MB', 'SRC+REC+MB'], hue_order=['5dB', '15dB', '25dB'])"
   ]
  },
  {
   "cell_type": "code",
   "execution_count": null,
   "id": "c2e63162-5117-4661-91be-19c5a1346d48",
   "metadata": {},
   "outputs": [],
   "source": [
    "hds = df[df['eval_rirs']=='none_headset']\n",
    "spk = df[df['eval_rirs']=='none_speakerphone']"
   ]
  },
  {
   "cell_type": "code",
   "execution_count": null,
   "id": "5956832b-437b-4c6b-81dd-2c074c9aab72",
   "metadata": {},
   "outputs": [],
   "source": [
    "#metric = 'squim_sisdr_e'\n",
    "#metric = 'squim_mos_e'\n",
    "#metric = 'dnsmos_ovrl_e'\n",
    "#metric = 'nisqa_mos_e'\n",
    "#metric = 'squim_pesq_e'\n",
    "metric = 'squim_stoi_e'\n",
    "\n",
    "model = 'SSPA'\n",
    "print('HDS')\n",
    "print(np.mean(hds[hds['train_rirs']==model][metric]))\n",
    "\n",
    "print('SPK')\n",
    "print(np.mean(spk[spk['train_rirs']==model][metric]))"
   ]
  },
  {
   "cell_type": "code",
   "execution_count": null,
   "id": "e9de7dd8-f6de-4b3d-b83a-54b5d20f8ec2",
   "metadata": {},
   "outputs": [],
   "source": [
    "sb.barplot(data=df, x='train_rirs', y='sisdr_i', hue='train_rirs', order=ordering, hue_order=ordering)"
   ]
  },
  {
   "cell_type": "code",
   "execution_count": null,
   "id": "f15c9185-f2a0-47b7-b63b-d32cb8e7cf08",
   "metadata": {
    "scrolled": true
   },
   "outputs": [],
   "source": [
    "plt.figure(figsize=[5,32])\n",
    "\n",
    "plt.subplot(8,1,1)\n",
    "sb.barplot(data=df, x='train_rirs', y='sisdr_i', hue='train_rirs', order=ordering, hue_order=ordering)\n",
    "#plt.ylim([2.54, 2.62])\n",
    "plt.xticks(rotation=90)\n",
    "plt.xlabel(' ')\n",
    "\n",
    "plt.subplot(8,1,2)\n",
    "sb.barplot(data=df, x='train_rirs', y='dnsmos_ovrl_i', hue='train_rirs', order=ordering, hue_order=ordering)\n",
    "#plt.ylim([1.95, 2.02])\n",
    "plt.xticks(rotation=90)\n",
    "plt.xlabel(' ')\n",
    "\n",
    "plt.subplot(8,1,3)\n",
    "sb.barplot(data=df, x='train_rirs', y='nisqa_mos_i', hue='train_rirs', order=ordering, hue_order=ordering)\n",
    "#plt.ylim([7.6, 8.1])\n",
    "plt.xticks(rotation=90)\n",
    "plt.xlabel(' ')\n",
    "\n",
    "plt.subplot(8,1,4)\n",
    "sb.barplot(data=df, x='train_rirs', y='squim_sisdr_i', hue='train_rirs', order=ordering, hue_order=ordering)\n",
    "#plt.ylim([7.6, 8.1])\n",
    "plt.xticks(rotation=90)\n",
    "plt.xlabel(' ')\n",
    "\n",
    "plt.subplot(8,1,5)\n",
    "sb.barplot(data=df, x='train_rirs', y='lsd_i', hue='train_rirs', order=ordering, hue_order=ordering)\n",
    "plt.xticks(rotation=90)\n",
    "plt.xlabel(' ')\n",
    "\n",
    "plt.subplot(8,1,6)\n",
    "sb.barplot(data=df, x='train_rirs', y='sBertSim_i', hue='train_rirs', order=ordering, hue_order=ordering)\n",
    "#plt.ylim([1.2, 2.6])\n",
    "plt.xticks(rotation=90)\n",
    "plt.xlabel(' ')\n",
    "\n",
    "plt.subplot(8,1,7)\n",
    "sb.barplot(data=df, x='train_rirs', y='spksim_i', hue='train_rirs', order=ordering, hue_order=ordering)\n",
    "#plt.ylim([1.2, 2.6])\n",
    "plt.xticks(rotation=90)\n",
    "plt.xlabel(' ')\n",
    "\n",
    "plt.subplot(8,1,8)\n",
    "sb.barplot(data=df, x='train_rirs', y='phonsim_i', hue='train_rirs', order=ordering, hue_order=ordering)\n",
    "#plt.ylim([1.2, 2.6])\n",
    "plt.xticks(rotation=90)\n",
    "plt.xlabel(' ')\n",
    "\n",
    "plt.tight_layout()\n",
    "\n",
    "plt.savefig('intrussive.pdf')"
   ]
  }
 ],
 "metadata": {
  "kernelspec": {
   "display_name": "dns",
   "language": "python",
   "name": "dns"
  },
  "language_info": {
   "codemirror_mode": {
    "name": "ipython",
    "version": 3
   },
   "file_extension": ".py",
   "mimetype": "text/x-python",
   "name": "python",
   "nbconvert_exporter": "python",
   "pygments_lexer": "ipython3",
   "version": "3.8.10"
  }
 },
 "nbformat": 4,
 "nbformat_minor": 5
}
