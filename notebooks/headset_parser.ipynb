{
 "cells": [
  {
   "cell_type": "code",
   "execution_count": 1,
   "id": "e9c41a1d-34ac-4a9f-9908-26ddf2430f31",
   "metadata": {},
   "outputs": [
    {
     "name": "stderr",
     "output_type": "stream",
     "text": [
      "/home/ubuntu/enric/venvs/dns/lib/python3.8/site-packages/df/io.py:9: UserWarning: `torchaudio.backend.common.AudioMetaData` has been moved to `torchaudio.AudioMetaData`. Please update the import path.\n",
      "  from torchaudio.backend.common import AudioMetaData\n"
     ]
    }
   ],
   "source": [
    "import torch\n",
    "from torch.utils.data import Dataset, DataLoader\n",
    "import torch.nn.functional as F\n",
    "import torchaudio\n",
    "from df import enhance, init_df\n",
    "from os.path import join as pjoin\n",
    "import matplotlib.pyplot as plt\n",
    "import os\n",
    "import tqdm\n",
    "import time\n",
    "from IPython.display import Audio #listen: ipd.Audio(real.detach().cpu().numpy(), rate=FS)\n",
    "import numpy as np\n",
    "import scipy\n",
    "import scipy.signal as sig\n",
    "import pandas as pd\n",
    "import torchmetrics.audio as M\n",
    "from speechmos import dnsmos\n",
    "from datetime import datetime\n",
    "\n",
    "def plot_tensor(x):\n",
    "    plt.plot(x.cpu().detach().numpy())\n",
    "\n",
    "def load_audio(apath):\n",
    "    audio, fs = torchaudio.load(apath)\n",
    "    if fs != FS:\n",
    "        #print('resampling')\n",
    "        resampler = torchaudio.transforms.Resample(fs, FS)\n",
    "        audio = resampler(audio)    \n",
    "    if len(audio.shape) > 1:\n",
    "            audio = audio[0,:]\n",
    "    return audio\n",
    "\n",
    "def power(signal):\n",
    "    return np.mean(signal**2)"
   ]
  },
  {
   "cell_type": "code",
   "execution_count": 2,
   "id": "456bba6b-7824-4a36-a472-4d6875c6c78b",
   "metadata": {},
   "outputs": [],
   "source": [
    "FS = 48000\n",
    "DURATION = 4 #time in seconds of the eval chunk\n",
    "TRAINRIR_NAMES = {'D01_sb_none_NH_mono': 'singleband' , 'D02_mb_none_NH_mono': 'multiband', \n",
    "            'D03_mb_rec_NH_left': 'recdirectivity', 'D05_mb_srcrec_NH_left': 'recsourcedirectivity',\n",
    "            'D00_DNS5': 'DNS5'}\n",
    "\n",
    "use_gpu = True\n",
    "if torch.cuda.is_available() and use_gpu:\n",
    "    TORCH_DEVICE = \"cuda\"\n",
    "else:\n",
    "    TORCH_DEVICE = \"cpu\"\n",
    "\n",
    "batch_size = 1\n",
    "num_workers = 8\n",
    "reverberant_noises = True"
   ]
  },
  {
   "cell_type": "code",
   "execution_count": 3,
   "id": "fd30afca-68bc-40ca-8cc5-be14bafb832c",
   "metadata": {},
   "outputs": [],
   "source": [
    "mix_main_path = '/home/ubuntu/Data/DNS-Challenge/V5_dev_testset/Track1_Headset/noisy'"
   ]
  },
  {
   "cell_type": "code",
   "execution_count": 4,
   "id": "f5a29e71-5585-4bdd-b6ef-e638009b5fd7",
   "metadata": {},
   "outputs": [],
   "source": [
    "mix_paths = os.listdir(mix_main_path)"
   ]
  },
  {
   "cell_type": "code",
   "execution_count": 5,
   "id": "85d78c3f-9432-4493-bb4d-e0354b4c1c3a",
   "metadata": {},
   "outputs": [],
   "source": [
    "mix_paths = [x for x in mix_paths if 'Primary' in x ]"
   ]
  },
  {
   "cell_type": "code",
   "execution_count": 6,
   "id": "793e4115-074e-411a-b84c-c2e5407442c8",
   "metadata": {},
   "outputs": [],
   "source": [
    "mix_paths.sort()"
   ]
  },
  {
   "cell_type": "code",
   "execution_count": 7,
   "id": "92af1735-727d-4360-abea-41d024bda347",
   "metadata": {},
   "outputs": [],
   "source": [
    "mix_paths = [pjoin(mix_main_path, x) for x in mix_paths]"
   ]
  },
  {
   "cell_type": "code",
   "execution_count": 9,
   "id": "3762b006-2658-4ab1-8e1d-c6c763e8b210",
   "metadata": {},
   "outputs": [],
   "source": [
    "with open('DNS5_val_headset.txt', 'w') as file:\n",
    "    # Write each item on a new line\n",
    "    for item in mix_paths:\n",
    "        file.write(f\"{item}\\n\")"
   ]
  },
  {
   "cell_type": "code",
   "execution_count": null,
   "id": "dd850f58-5bd4-4831-a3d0-fb95865fe9f4",
   "metadata": {},
   "outputs": [],
   "source": []
  }
 ],
 "metadata": {
  "kernelspec": {
   "display_name": "dns",
   "language": "python",
   "name": "dns"
  },
  "language_info": {
   "codemirror_mode": {
    "name": "ipython",
    "version": 3
   },
   "file_extension": ".py",
   "mimetype": "text/x-python",
   "name": "python",
   "nbconvert_exporter": "python",
   "pygments_lexer": "ipython3",
   "version": "3.8.10"
  }
 },
 "nbformat": 4,
 "nbformat_minor": 5
}
