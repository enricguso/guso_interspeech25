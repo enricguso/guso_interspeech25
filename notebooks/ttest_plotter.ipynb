{
 "cells": [
  {
   "cell_type": "code",
   "execution_count": null,
   "id": "7584a128-f6f4-46ca-abe9-d231e765ada4",
   "metadata": {},
   "outputs": [],
   "source": [
    "import numpy as np\n",
    "import pandas as pd\n",
    "import scipy\n",
    "import os\n",
    "from os.path import join as pjoin\n",
    "import matplotlib.pyplot as plt\n",
    "import seaborn as sns"
   ]
  },
  {
   "cell_type": "code",
   "execution_count": null,
   "id": "e55cdd8f-6a61-4ef3-a04d-3edda288df02",
   "metadata": {},
   "outputs": [],
   "source": [
    "df = pd.read_excel('../results/results_realRIRs/sub_results_waspaa25.xlsx')\n",
    "\n",
    "df = df.drop('CLEAN', axis='columns' )\n",
    "df = df.drop('NOISY', axis='columns' )\n",
    "\n",
    "\n",
    "df = df[df.columns[0:8]]"
   ]
  },
  {
   "cell_type": "code",
   "execution_count": null,
   "id": "ab2a5b63-023b-41bd-97ca-00d57bed1c54",
   "metadata": {},
   "outputs": [],
   "source": [
    "len(df)/(6*8)"
   ]
  },
  {
   "cell_type": "code",
   "execution_count": null,
   "id": "cef0fd84-19d6-488d-8337-380415aca990",
   "metadata": {},
   "outputs": [],
   "source": [
    "'''\n",
    "all signifficant except:\n",
    "DNS5 AND SSPA\n",
    "SB AND REC+MB\n",
    "MB AND SRC+REC+MB\n",
    "'''\n",
    ";"
   ]
  },
  {
   "cell_type": "code",
   "execution_count": null,
   "id": "d16b3032-a5ff-4f6f-9650-eacb5418b4c9",
   "metadata": {},
   "outputs": [],
   "source": [
    "np.mean(df['DNS5'])"
   ]
  },
  {
   "cell_type": "code",
   "execution_count": null,
   "id": "4a0910e9-3add-4eb0-8717-ee6047f6cbb9",
   "metadata": {},
   "outputs": [],
   "source": [
    "np.std(df['DNS5'])"
   ]
  },
  {
   "cell_type": "code",
   "execution_count": null,
   "id": "8454d076-e1e6-43e3-9f7a-b0a18761936c",
   "metadata": {},
   "outputs": [],
   "source": [
    "np.mean(df['SB'])"
   ]
  },
  {
   "cell_type": "code",
   "execution_count": null,
   "id": "9e2c8f98-3a02-48ea-aef7-b15fbe2608b8",
   "metadata": {},
   "outputs": [],
   "source": [
    "np.std(df['SB'])"
   ]
  },
  {
   "cell_type": "code",
   "execution_count": null,
   "id": "dc038bdc-3f8c-4336-98d6-34617709d77f",
   "metadata": {},
   "outputs": [],
   "source": [
    "np.mean(df['MB'])"
   ]
  },
  {
   "cell_type": "code",
   "execution_count": null,
   "id": "4bddb78c-f881-41d2-b4db-e20c622e2ec1",
   "metadata": {},
   "outputs": [],
   "source": [
    "np.std(df['MB'])"
   ]
  },
  {
   "cell_type": "code",
   "execution_count": null,
   "id": "87d9da73-3aee-4299-ae6e-2e4cc8a1181c",
   "metadata": {},
   "outputs": [],
   "source": [
    "np.mean(df['REC+MB'])"
   ]
  },
  {
   "cell_type": "code",
   "execution_count": null,
   "id": "dd482aeb-f5e3-4f05-ad0c-ce3932684bd5",
   "metadata": {},
   "outputs": [],
   "source": [
    "np.std(df['REC+MB'])"
   ]
  },
  {
   "cell_type": "code",
   "execution_count": null,
   "id": "a9bc53f9-ce38-4aae-a4ae-9a5c67f2d10b",
   "metadata": {},
   "outputs": [],
   "source": [
    "np.mean(df['SRC+REC+MB'])"
   ]
  },
  {
   "cell_type": "code",
   "execution_count": null,
   "id": "319456e7-54fe-4541-bb0c-603ed8e38400",
   "metadata": {},
   "outputs": [],
   "source": [
    "np.std(df['SRC+REC+MB'])"
   ]
  },
  {
   "cell_type": "code",
   "execution_count": null,
   "id": "b5726953-53db-4c56-9a78-6f55b3d6e909",
   "metadata": {},
   "outputs": [],
   "source": [
    "np.mean(df['SSPA'])"
   ]
  },
  {
   "cell_type": "code",
   "execution_count": null,
   "id": "4ed0ef7c-2235-4600-930c-f9c5aedfaee2",
   "metadata": {},
   "outputs": [],
   "source": [
    "np.std(df['SSPA'])"
   ]
  },
  {
   "cell_type": "code",
   "execution_count": null,
   "id": "6c608eac-682c-4698-ab0b-75b410f3b29c",
   "metadata": {},
   "outputs": [],
   "source": [
    "scipy.stats.ttest_ind(df['DNS5'], df['DNS5']) # INSIGNIFFICANT"
   ]
  },
  {
   "cell_type": "code",
   "execution_count": null,
   "id": "30180e84-14dc-4c58-907e-e609bb16692d",
   "metadata": {},
   "outputs": [],
   "source": [
    "scipy.stats.ttest_ind(df['DNS5'], df['SB']) # SIGNIFFICANT"
   ]
  },
  {
   "cell_type": "code",
   "execution_count": null,
   "id": "ee14962f-6dc1-47a2-b3c7-8780aaa6af2e",
   "metadata": {},
   "outputs": [],
   "source": [
    "scipy.stats.ttest_ind(df['DNS5'], df['MB']) # SIGNIFFICANT"
   ]
  },
  {
   "cell_type": "code",
   "execution_count": null,
   "id": "43049290-ac3c-4d56-9fd6-077f109f248f",
   "metadata": {},
   "outputs": [],
   "source": [
    "scipy.stats.ttest_ind(df['DNS5'], df['REC+MB']) # SIGNIFFICANT"
   ]
  },
  {
   "cell_type": "code",
   "execution_count": null,
   "id": "3dde6bfa-8d40-4d22-87fb-02ca3d28a73f",
   "metadata": {},
   "outputs": [],
   "source": [
    "scipy.stats.ttest_ind(df['DNS5'], df['SRC+REC+MB']) # SIGNIFFICANT"
   ]
  },
  {
   "cell_type": "code",
   "execution_count": null,
   "id": "43d25c04-8265-4dd6-8fc7-b4c7fbdcbd77",
   "metadata": {},
   "outputs": [],
   "source": [
    "scipy.stats.ttest_ind(df['DNS5'], df['SSPA']) # INSIGNIFFICANT"
   ]
  },
  {
   "cell_type": "code",
   "execution_count": null,
   "id": "909cd71e",
   "metadata": {},
   "outputs": [],
   "source": [
    "scipy.stats.ttest_ind(df['SB'], df['SB']) # INSIGNIFFICANT"
   ]
  },
  {
   "cell_type": "code",
   "execution_count": null,
   "id": "fae4501f-0a2e-4138-9b4c-d588b3a83e72",
   "metadata": {},
   "outputs": [],
   "source": [
    "scipy.stats.ttest_ind(df['SB'], df['DNS5']) # SIGNIFFICANT"
   ]
  },
  {
   "cell_type": "code",
   "execution_count": null,
   "id": "60a29093",
   "metadata": {},
   "outputs": [],
   "source": [
    "scipy.stats.ttest_ind(df['SB'], df['MB']) # SIGNIFFICANT"
   ]
  },
  {
   "cell_type": "code",
   "execution_count": null,
   "id": "ac306d9f",
   "metadata": {},
   "outputs": [],
   "source": [
    "scipy.stats.ttest_ind(df['SB'], df['REC+MB']) # INSIGNIFFICANT"
   ]
  },
  {
   "cell_type": "code",
   "execution_count": null,
   "id": "10a89bb1",
   "metadata": {},
   "outputs": [],
   "source": [
    "scipy.stats.ttest_ind(df['SB'], df['SRC+REC+MB']) # SIGNIFFICANT"
   ]
  },
  {
   "cell_type": "code",
   "execution_count": null,
   "id": "e60d0a93",
   "metadata": {},
   "outputs": [],
   "source": [
    "scipy.stats.ttest_ind(df['SB'], df['SSPA']) # SIGNIFFICANT IMPROVEMENT"
   ]
  },
  {
   "cell_type": "code",
   "execution_count": null,
   "id": "7ce0f319-966d-42a2-98f4-e922cfe7df57",
   "metadata": {},
   "outputs": [],
   "source": [
    "scipy.stats.ttest_ind(df['MB'], df['REC+MB']) # SIGNIFFICANT IMPROVEMENT"
   ]
  },
  {
   "cell_type": "code",
   "execution_count": null,
   "id": "941456fe-cc50-4ea3-95cd-c94a156055f0",
   "metadata": {},
   "outputs": [],
   "source": [
    "scipy.stats.ttest_ind(df['MB'], df['SRC+REC+MB']) # INSIGNIFFICANT IMPROVEMENT"
   ]
  },
  {
   "cell_type": "code",
   "execution_count": null,
   "id": "c2415a97-e610-40d9-8701-252d893f7e12",
   "metadata": {},
   "outputs": [],
   "source": [
    "scipy.stats.ttest_ind(df['MB'], df['SSPA']) # SIGNIF IMPROVEMENT"
   ]
  },
  {
   "cell_type": "code",
   "execution_count": null,
   "id": "f6382c84-a3dd-493e-b121-0d16932f53f9",
   "metadata": {},
   "outputs": [],
   "source": [
    "scipy.stats.ttest_ind(df['REC+MB'], df['SRC+REC+MB']) # SIGNIF IMPROVEMENT"
   ]
  },
  {
   "cell_type": "code",
   "execution_count": null,
   "id": "b746e240-3f11-4c31-b7c9-3c3124f299a4",
   "metadata": {},
   "outputs": [],
   "source": [
    "scipy.stats.ttest_ind(df['REC+MB'], df['SSPA']) # SIGNIF IMPROVEMENT"
   ]
  },
  {
   "cell_type": "code",
   "execution_count": null,
   "id": "3279d5b9-06cb-4237-8109-f816dfa761d0",
   "metadata": {},
   "outputs": [],
   "source": [
    "scipy.stats.ttest_ind(df['SRC+REC+MB'], df['SSPA']) # SIGNIF IMPROVEMENT"
   ]
  },
  {
   "cell_type": "markdown",
   "id": "692bd830-16ca-48c3-a1c4-921fd7afdc03",
   "metadata": {},
   "source": [
    "# Objective TTEST"
   ]
  },
  {
   "cell_type": "code",
   "execution_count": null,
   "id": "4a971601-5ff1-455d-ba81-47c63eddf9c8",
   "metadata": {},
   "outputs": [],
   "source": [
    "\n",
    "files = os.listdir('../results/results_realRIRs')\n",
    "\n",
    "dataframes = []\n",
    "for file in files:\n",
    "    dataframes.append(pd.read_csv(pjoin('../results/results_realRIRs', file)))\n",
    "\n",
    "files_spk = os.listdir('../results/results_speakerphone')\n",
    "\n",
    "for file in files_spk:\n",
    "    dataframes.append(pd.read_csv(pjoin('../results/results_speakerphone', file)))\n",
    "files_hds = os.listdir('../results/results_headset')\n",
    "for file in files_hds:\n",
    "    dataframes.append(pd.read_csv(pjoin('../results/results_headset', file)))\n",
    "df = pd.concat(dataframes )\n",
    "df = df.reset_index()\n",
    "df = df.rename(columns={'index': 'id'})\n",
    "\n",
    "df = df.replace('DFN3', 'DNS5')\n",
    "df = df.replace('multiband', 'MB')\n",
    "df = df.replace('recdirectivity', 'REC+MB')\n",
    "df = df.replace('recsourcedirectivity', 'SRC+REC+MB')\n",
    "df = df.replace('singleband', 'SB')\n",
    "df = df.replace('soundspaces', 'SSPA')\n"
   ]
  },
  {
   "cell_type": "code",
   "execution_count": null,
   "id": "76d34fdf-4386-4837-90e7-a831ec2ed78c",
   "metadata": {},
   "outputs": [],
   "source": [
    "df = df[df['eval_rirs']=='none_headset']"
   ]
  },
  {
   "cell_type": "code",
   "execution_count": null,
   "id": "baa92c65-0fd7-44ba-a862-fdd77678abcf",
   "metadata": {},
   "outputs": [],
   "source": [
    "scipy.stats.ttest_ind(df[df['train_rirs']=='SB']['squim_sisdr_i'], df[df['train_rirs']=='MB']['squim_sisdr_i']) # SIGNIF IMPROVEMENT\n",
    "\n"
   ]
  },
  {
   "cell_type": "code",
   "execution_count": null,
   "id": "0ffcae93-fc38-4a3e-bd61-a55ed9545356",
   "metadata": {},
   "outputs": [],
   "source": [
    "\n",
    "df = df.melt(var_name=\" \", value_name=\"MUSHRA Score\")\n",
    "df = df.dropna()\n",
    "\n",
    "from matplotlib import rc\n",
    "\n",
    "# Set global font properties\n",
    "rc('font', family='serif', serif='Times New Roman')\n",
    "rc('text', usetex=False)  # Set to True if using LaTeX for text rendering\n",
    "\n",
    "from matplotlib import rcParams\n",
    "rcParams['font.family'] = 'Times New Roman'\n",
    "\n",
    "plt.figure(figsize=(6, 2.5))\n",
    "sns.pointplot(data=df, x=\"MUSHRA Score\", y=\" \", hue=\" \", capsize=0.1, errorbar=('ci', 95), palette=\"colorblind\")\n",
    "plt.grid(True, which='both', linestyle='--', linewidth=0.5)\n",
    "plt.xlim([20, 60])\n",
    "\n",
    "# Add text to indicate ranges\n",
    "#plt.axvline(x=20, color='r', linestyle='--', linewidth=1)\n",
    "plt.axvline(x=40, color='gray', linestyle='--', linewidth=1)\n",
    "\n",
    "plt.text(20, 6.5, \"Poor\", ha='center', va='center', fontsize=12, color='gray', fontweight='bold')\n",
    "plt.text(60, 6.5, \"Fair\", ha='center', va='center', fontsize=12, color='gray', fontweight='bold')\n",
    "\n",
    "plt.tight_layout()\n",
    "#rc('pdf', fonttype=42)\n",
    "\n",
    "plt.savefig('../results_waspaa/sub_results.pdf')"
   ]
  },
  {
   "cell_type": "code",
   "execution_count": null,
   "id": "4a03a699-eea6-41bd-91ee-fba39584e56e",
   "metadata": {},
   "outputs": [],
   "source": [
    "'''\n",
    "all signifficant except:\n",
    "DNS5 AND SSPA\n",
    "SB AND REC+MB\n",
    "MB AND SRC+REC+MB\n",
    "'''\n",
    ";"
   ]
  }
 ],
 "metadata": {
  "kernelspec": {
   "display_name": "Python 3 (ipykernel)",
   "language": "python",
   "name": "python3"
  },
  "language_info": {
   "codemirror_mode": {
    "name": "ipython",
    "version": 3
   },
   "file_extension": ".py",
   "mimetype": "text/x-python",
   "name": "python",
   "nbconvert_exporter": "python",
   "pygments_lexer": "ipython3",
   "version": "3.8.10"
  }
 },
 "nbformat": 4,
 "nbformat_minor": 5
}
