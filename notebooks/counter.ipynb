{
 "cells": [
  {
   "cell_type": "code",
   "execution_count": null,
   "id": "0732cb71-5fad-443d-9fca-78482a13fd90",
   "metadata": {},
   "outputs": [],
   "source": [
    "import os\n",
    "import numpy as np\n",
    "import soundfile as sf\n",
    "import tqdm\n",
    "\n",
    "with open('/home/ubuntu/Data/DFN/textfiles/training_set.txt', 'r') as file:\n",
    "    train_speech = file.read()\n",
    "train_speech = train_speech.splitlines()\n",
    "\n",
    "with open('/home/ubuntu/Data/DFN/textfiles/validation_set.txt', 'r') as file:\n",
    "    valid_speech = file.read()\n",
    "valid_speech = valid_speech.splitlines()\n",
    "\n",
    "with open('/home/ubuntu/Data/DFN/textfiles/test_set.txt', 'r') as file:\n",
    "    test_speech = file.read()\n",
    "test_speech = test_speech.splitlines()\n",
    "\n",
    "speech = train_speech + valid_speech + test_speech\n",
    "\n",
    "lens = 0\n",
    "for s in tqdm.tqdm(speech):\n",
    "    x, fs = sf.read(s)\n",
    "    lens+= x.shape[0]/fs\n",
    "    print(lens)\n",
    "\n",
    "lens/3600"
   ]
  },
  {
   "cell_type": "code",
   "execution_count": null,
   "id": "4c4114c0-c80a-443d-852f-1b1d34ff6a53",
   "metadata": {},
   "outputs": [],
   "source": []
  },
  {
   "cell_type": "code",
   "execution_count": null,
   "id": "8c8ead6e-808a-4457-8cd2-4f193414b3db",
   "metadata": {},
   "outputs": [],
   "source": []
  },
  {
   "cell_type": "code",
   "execution_count": null,
   "id": "cbfb334e-7209-456c-a00e-db48b376f019",
   "metadata": {},
   "outputs": [],
   "source": [
    "with open('/home/ubuntu/Data/DFN/textfiles/training_set_rirs.txt', 'r') as file:\n",
    "    # Read the contents of the file\n",
    "    train_speech = file.read()\n",
    "train_speech = train_speech.splitlines()\n"
   ]
  },
  {
   "cell_type": "code",
   "execution_count": null,
   "id": "f9deae52-fd98-4f63-9fdd-ae1cdb139089",
   "metadata": {},
   "outputs": [],
   "source": [
    "with open('/home/ubuntu/Data/DFN/textfiles/validation_set_rirs.txt', 'r') as file:\n",
    "    # Read the contents of the file\n",
    "    val_speech = file.read()\n",
    "val_speech = val_speech.splitlines()"
   ]
  },
  {
   "cell_type": "code",
   "execution_count": null,
   "id": "99150071-5cae-4b54-8efb-4dd43a691cda",
   "metadata": {},
   "outputs": [],
   "source": [
    "with open('/home/ubuntu/Data/DFN/textfiles/test_set_rirs.txt', 'r') as file:\n",
    "    # Read the contents of the file\n",
    "    test_speech = file.read()\n",
    "test_speech = test_speech.splitlines()"
   ]
  },
  {
   "cell_type": "code",
   "execution_count": null,
   "id": "910220d1-cd6b-4a80-9e96-eff69cb0e4f3",
   "metadata": {},
   "outputs": [],
   "source": [
    "(len(train_speech)+len(val_speech)+len(test_speech))"
   ]
  },
  {
   "cell_type": "code",
   "execution_count": null,
   "id": "c9cdae91-5bad-40ce-bada-4bace910c860",
   "metadata": {},
   "outputs": [],
   "source": [
    "len(val_speech)"
   ]
  },
  {
   "cell_type": "code",
   "execution_count": null,
   "id": "f5b620c5-1be1-441a-8bdb-969b849a970f",
   "metadata": {},
   "outputs": [],
   "source": [
    "len(test_speech)"
   ]
  },
  {
   "cell_type": "code",
   "execution_count": null,
   "id": "b4a1f333-f85a-42ef-aede-71ec36a35e5d",
   "metadata": {},
   "outputs": [],
   "source": []
  }
 ],
 "metadata": {
  "kernelspec": {
   "display_name": "dns",
   "language": "python",
   "name": "dns"
  },
  "language_info": {
   "codemirror_mode": {
    "name": "ipython",
    "version": 3
   },
   "file_extension": ".py",
   "mimetype": "text/x-python",
   "name": "python",
   "nbconvert_exporter": "python",
   "pygments_lexer": "ipython3",
   "version": "3.8.10"
  }
 },
 "nbformat": 4,
 "nbformat_minor": 5
}
