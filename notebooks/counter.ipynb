{
 "cells": [
  {
   "cell_type": "code",
   "execution_count": 21,
   "id": "704dd7d8-d005-4d0d-bc70-c8bb05a26275",
   "metadata": {},
   "outputs": [],
   "source": [
    "import os\n",
    "import numpy as np"
   ]
  },
  {
   "cell_type": "code",
   "execution_count": 36,
   "id": "cbfb334e-7209-456c-a00e-db48b376f019",
   "metadata": {},
   "outputs": [],
   "source": [
    "with open('/home/ubuntu/Data/DFN/textfiles/training_set_rirs.txt', 'r') as file:\n",
    "    # Read the contents of the file\n",
    "    train_speech = file.read()\n",
    "train_speech = train_speech.splitlines()\n"
   ]
  },
  {
   "cell_type": "code",
   "execution_count": 37,
   "id": "f9deae52-fd98-4f63-9fdd-ae1cdb139089",
   "metadata": {},
   "outputs": [],
   "source": [
    "with open('/home/ubuntu/Data/DFN/textfiles/validation_set_rirs.txt', 'r') as file:\n",
    "    # Read the contents of the file\n",
    "    val_speech = file.read()\n",
    "val_speech = val_speech.splitlines()"
   ]
  },
  {
   "cell_type": "code",
   "execution_count": 38,
   "id": "99150071-5cae-4b54-8efb-4dd43a691cda",
   "metadata": {},
   "outputs": [],
   "source": [
    "with open('/home/ubuntu/Data/DFN/textfiles/test_set_rirs.txt', 'r') as file:\n",
    "    # Read the contents of the file\n",
    "    test_speech = file.read()\n",
    "test_speech = test_speech.splitlines()"
   ]
  },
  {
   "cell_type": "code",
   "execution_count": 45,
   "id": "910220d1-cd6b-4a80-9e96-eff69cb0e4f3",
   "metadata": {},
   "outputs": [
    {
     "data": {
      "text/plain": [
       "60248"
      ]
     },
     "execution_count": 45,
     "metadata": {},
     "output_type": "execute_result"
    }
   ],
   "source": [
    "(len(train_speech)+len(val_speech)+len(test_speech))"
   ]
  },
  {
   "cell_type": "code",
   "execution_count": 42,
   "id": "c9cdae91-5bad-40ce-bada-4bace910c860",
   "metadata": {},
   "outputs": [
    {
     "data": {
      "text/plain": [
       "9037"
      ]
     },
     "execution_count": 42,
     "metadata": {},
     "output_type": "execute_result"
    }
   ],
   "source": [
    "len(val_speech)"
   ]
  },
  {
   "cell_type": "code",
   "execution_count": 43,
   "id": "f5b620c5-1be1-441a-8bdb-969b849a970f",
   "metadata": {},
   "outputs": [
    {
     "data": {
      "text/plain": [
       "9037"
      ]
     },
     "execution_count": 43,
     "metadata": {},
     "output_type": "execute_result"
    }
   ],
   "source": [
    "len(test_speech)"
   ]
  },
  {
   "cell_type": "code",
   "execution_count": null,
   "id": "b4a1f333-f85a-42ef-aede-71ec36a35e5d",
   "metadata": {},
   "outputs": [],
   "source": []
  }
 ],
 "metadata": {
  "kernelspec": {
   "display_name": "dns",
   "language": "python",
   "name": "dns"
  },
  "language_info": {
   "codemirror_mode": {
    "name": "ipython",
    "version": 3
   },
   "file_extension": ".py",
   "mimetype": "text/x-python",
   "name": "python",
   "nbconvert_exporter": "python",
   "pygments_lexer": "ipython3",
   "version": "3.8.10"
  }
 },
 "nbformat": 4,
 "nbformat_minor": 5
}
