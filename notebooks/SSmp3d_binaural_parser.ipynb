{
 "cells": [
  {
   "cell_type": "code",
   "execution_count": 1,
   "id": "e9c41a1d-34ac-4a9f-9908-26ddf2430f31",
   "metadata": {},
   "outputs": [],
   "source": [
    "from os.path import join as pjoin\n",
    "import matplotlib.pyplot as plt\n",
    "import os"
   ]
  },
  {
   "cell_type": "code",
   "execution_count": 2,
   "id": "a83b85ae-9f64-424f-a933-fd4a7dbd8729",
   "metadata": {},
   "outputs": [],
   "source": [
    "files = os.listdir('/home/ubuntu/Data/guso_in24_rirs/train/SSmp3d_left/')\n",
    "\n",
    "files = [pjoin('/home/ubuntu/Data/guso_in24_rirs/train/SSmp3d_left/', x) for x in files]"
   ]
  },
  {
   "cell_type": "code",
   "execution_count": 3,
   "id": "4a571293-75a1-4fdf-9153-98594945f35d",
   "metadata": {},
   "outputs": [
    {
     "data": {
      "text/plain": [
       "42499"
      ]
     },
     "execution_count": 3,
     "metadata": {},
     "output_type": "execute_result"
    }
   ],
   "source": [
    "len(files)"
   ]
  },
  {
   "cell_type": "code",
   "execution_count": 4,
   "id": "0abe6338-9d1f-4ec1-84a0-fb681260e339",
   "metadata": {},
   "outputs": [],
   "source": [
    "with open('/home/ubuntu/Data/DFN/textfiles/SSmp3d_left_train_rir.txt', 'w') as file:\n",
    "    # Write each item on a new line\n",
    "    for item in files:\n",
    "        file.write(f\"{item}\\n\")"
   ]
  },
  {
   "cell_type": "code",
   "execution_count": 5,
   "id": "cedee41a-cf03-4695-a49d-c8a5e51f8ac9",
   "metadata": {},
   "outputs": [],
   "source": [
    "files = os.listdir('/home/ubuntu/Data/guso_in24_rirs/train/SSmp3d_right/')\n",
    "files = [pjoin('/home/ubuntu/Data/guso_in24_rirs/train/SSmp3d_right/', x) for x in files]"
   ]
  },
  {
   "cell_type": "code",
   "execution_count": 7,
   "id": "98cb1f89-7ed2-4cd3-8959-302e18a414ab",
   "metadata": {},
   "outputs": [],
   "source": [
    "with open('/home/ubuntu/Data/DFN/textfiles/SSmp3d_right_train_rir.txt', 'w') as file:\n",
    "    # Write each item on a new line\n",
    "    for item in files:\n",
    "        file.write(f\"{item}\\n\")"
   ]
  },
  {
   "cell_type": "code",
   "execution_count": 8,
   "id": "66c7ce6b-c4a3-47ac-b9c0-0c77c58a96e5",
   "metadata": {},
   "outputs": [],
   "source": [
    "files = os.listdir('/home/ubuntu/Data/guso_in24_rirs/val/SSmp3d_right/')\n",
    "files = [pjoin('/home/ubuntu/Data/guso_in24_rirs/val/SSmp3d_right/', x) for x in files]\n",
    "with open('/home/ubuntu/Data/DFN/textfiles/SSmp3d_right_val_rir.txt', 'w') as file:\n",
    "    # Write each item on a new line\n",
    "    for item in files:\n",
    "        file.write(f\"{item}\\n\")"
   ]
  },
  {
   "cell_type": "code",
   "execution_count": 9,
   "id": "95299c3d-2825-4b06-8e44-1a7053887784",
   "metadata": {},
   "outputs": [],
   "source": [
    "files = os.listdir('/home/ubuntu/Data/guso_in24_rirs/test/SSmp3d_right/')\n",
    "files = [pjoin('/home/ubuntu/Data/guso_in24_rirs/test/SSmp3d_right/', x) for x in files]\n",
    "with open('/home/ubuntu/Data/DFN/textfiles/SSmp3d_right_test_rir.txt', 'w') as file:\n",
    "    # Write each item on a new line\n",
    "    for item in files:\n",
    "        file.write(f\"{item}\\n\")"
   ]
  },
  {
   "cell_type": "code",
   "execution_count": 10,
   "id": "9d9166bc-4b8c-43df-9901-8b4e68ddfd1b",
   "metadata": {},
   "outputs": [],
   "source": [
    "files = os.listdir('/home/ubuntu/Data/guso_in24_rirs/val/SSmp3d_left/')\n",
    "files = [pjoin('/home/ubuntu/Data/guso_in24_rirs/val/SSmp3d_left/', x) for x in files]\n",
    "with open('/home/ubuntu/Data/DFN/textfiles/SSmp3d_left_val_rir.txt', 'w') as file:\n",
    "    # Write each item on a new line\n",
    "    for item in files:\n",
    "        file.write(f\"{item}\\n\")"
   ]
  },
  {
   "cell_type": "code",
   "execution_count": 11,
   "id": "872864ec-78f0-4663-b436-950b19c1df54",
   "metadata": {},
   "outputs": [],
   "source": [
    "files = os.listdir('/home/ubuntu/Data/guso_in24_rirs/test/SSmp3d_left/')\n",
    "files = [pjoin('/home/ubuntu/Data/guso_in24_rirs/test/SSmp3d_left/', x) for x in files]\n",
    "with open('/home/ubuntu/Data/DFN/textfiles/SSmp3d_left_test_rir.txt', 'w') as file:\n",
    "    # Write each item on a new line\n",
    "    for item in files:\n",
    "        file.write(f\"{item}\\n\")"
   ]
  },
  {
   "cell_type": "code",
   "execution_count": null,
   "id": "bb17b3a0-d596-4e18-8212-77b00bc3ecc5",
   "metadata": {},
   "outputs": [],
   "source": []
  }
 ],
 "metadata": {
  "kernelspec": {
   "display_name": "dns",
   "language": "python",
   "name": "dns"
  },
  "language_info": {
   "codemirror_mode": {
    "name": "ipython",
    "version": 3
   },
   "file_extension": ".py",
   "mimetype": "text/x-python",
   "name": "python",
   "nbconvert_exporter": "python",
   "pygments_lexer": "ipython3",
   "version": "3.8.10"
  }
 },
 "nbformat": 4,
 "nbformat_minor": 5
}
