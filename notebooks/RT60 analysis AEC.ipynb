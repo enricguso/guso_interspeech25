{
 "cells": [
  {
   "cell_type": "markdown",
   "id": "e64f1d94",
   "metadata": {},
   "source": [
    "# Method 2: using RT60s from AEC challenge dataset (ICASSP21)"
   ]
  },
  {
   "cell_type": "code",
   "execution_count": null,
   "id": "e3d50b05",
   "metadata": {},
   "outputs": [],
   "source": [
    "import pandas as pd\n",
    "import soundfile as sf\n",
    "import IPython.display as ipd\n",
    "import numpy as np\n",
    "from os.path import join as pjoin\n",
    "from os import listdir as ldr\n",
    "import matplotlib.pyplot as plt\n",
    "#import pyroomacoustics\n",
    "import scipy.signal as sig\n",
    "import scipy.stats as ss\n",
    "import numpy as np\n",
    "import tqdm\n",
    "import pyroomacoustics as pra\n",
    "from pyroomacoustics.parameters import constants\n",
    "\n"
   ]
  },
  {
   "cell_type": "code",
   "execution_count": null,
   "id": "70d12627",
   "metadata": {},
   "outputs": [],
   "source": [
    "df = pd.read_csv('AEC_challenge_ICASSP2021_RIRs.csv', encoding= 'unicode_escape')"
   ]
  },
  {
   "cell_type": "code",
   "execution_count": null,
   "id": "7f9f2cb9",
   "metadata": {},
   "outputs": [],
   "source": [
    "room_names = list(set(list(df['alias'])))"
   ]
  },
  {
   "cell_type": "code",
   "execution_count": null,
   "id": "8b847b56",
   "metadata": {},
   "outputs": [],
   "source": [
    "bands = np.array([31.6228, 63.0975, 125.8925, 251.1886, 501.1872, 1000, 1995.2623, 3981.0717, 7943.2823, 15848.9319])"
   ]
  },
  {
   "cell_type": "code",
   "execution_count": null,
   "id": "52ca45a2",
   "metadata": {},
   "outputs": [],
   "source": [
    "# we parse the dataframe \n",
    "real_rt60s = []\n",
    "\n",
    "real_rt60Fs = []\n",
    "\n",
    "errors = 0\n",
    "for i in range(len(room_names)):\n",
    "    room = df[df['alias'] == room_names[i]]\n",
    "    channels = list(set(room['channel']))\n",
    "    for channel in channels:\n",
    "        try:\n",
    "            rec = room[room['channel']==channel]\n",
    "            b1 = rec[rec['frequency']=='31.6228']['RT60'].values[0]\n",
    "            b2 = rec[rec['frequency']=='63.0957']['RT60'].values[0]\n",
    "            b3 = rec[rec['frequency']=='125.8925']['RT60'].values[0]\n",
    "            b4 = rec[rec['frequency']=='251.1886']['RT60'].values[0]\n",
    "            b5 = rec[rec['frequency']=='501.1872']['RT60'].values[0]\n",
    "            b6 =rec[rec['frequency']=='1000']['RT60'].values[0]\n",
    "            b7 = rec[rec['frequency']=='1995.2623']['RT60'].values[0]\n",
    "            b8 = rec[rec['frequency']=='3981.0717']['RT60'].values[0]\n",
    "            b9 = rec[rec['frequency']=='7943.2823']['RT60'].values[0]\n",
    "            if not rec[rec['frequency']=='15848.9319']['RT60'].empty:\n",
    "                b10 = rec[rec['frequency']=='15848.9319']['RT60'].values[0]\n",
    "            else:\n",
    "                b10 = b9\n",
    "            real_rt60s.append(rec[rec['frequency']=='wideband']['RT60'].values[0])\n",
    "            #real_rt60Fs.append(np.array([b1, b2, b3, b4, b5, b6, b7, b8, b9, b10]))\n",
    "            real_rt60Fs.append(np.array([b3, b4, b5, b6, b7, b8]))\n",
    "        except:\n",
    "            errors += 1\n",
    "real_rt60s = np.array(real_rt60s)\n",
    "real_rt60Fs = np.array(real_rt60Fs)"
   ]
  },
  {
   "cell_type": "code",
   "execution_count": null,
   "id": "2938b7bd",
   "metadata": {},
   "outputs": [],
   "source": [
    "real_rt60s = np.array(real_rt60s)\n",
    "real_rt60Fs = np.array(real_rt60Fs)"
   ]
  },
  {
   "cell_type": "code",
   "execution_count": null,
   "id": "9bdce743-7cbd-45e9-8137-b4a2e3da8b6b",
   "metadata": {},
   "outputs": [],
   "source": [
    "real_rt60Fs"
   ]
  },
  {
   "cell_type": "code",
   "execution_count": null,
   "id": "3071e94b",
   "metadata": {},
   "outputs": [],
   "source": [
    "plt.plot(real_rt60Fs[8,:])\n",
    "# real rt60s are not monotonically decreasing so i would model as independent random variables"
   ]
  },
  {
   "cell_type": "code",
   "execution_count": null,
   "id": "943ff06e",
   "metadata": {},
   "outputs": [],
   "source": [
    "len(real_rt60s)"
   ]
  },
  {
   "cell_type": "code",
   "execution_count": null,
   "id": "6ba97129",
   "metadata": {},
   "outputs": [],
   "source": [
    "bands = bands[2:8]"
   ]
  },
  {
   "cell_type": "code",
   "execution_count": null,
   "id": "69eb8610",
   "metadata": {
    "scrolled": true
   },
   "outputs": [],
   "source": [
    "plt.figure(figsize=[8,12])\n",
    "for i, band in enumerate(bands):\n",
    "    plt.subplot(5,2, i+1)\n",
    "    plt.hist(real_rt60Fs[:, i], 100);\n",
    "    plt.grid(True)\n",
    "    plt.xlabel('RT60['+str(band)+'Hz]')\n",
    "    plt.ylabel('count')\n",
    "    plt.tight_layout()"
   ]
  },
  {
   "cell_type": "markdown",
   "id": "4eeff7ba",
   "metadata": {},
   "source": [
    "# Computing RIRs with RT60>4 is too computationally expensive. We'll filter al the IRs larger than that"
   ]
  },
  {
   "cell_type": "code",
   "execution_count": null,
   "id": "ab878f46",
   "metadata": {},
   "outputs": [],
   "source": [
    "fltrd = []\n",
    "for i in real_rt60Fs:\n",
    "    if not (any(i > 2.)):\n",
    "        fltrd.append(i)"
   ]
  },
  {
   "cell_type": "code",
   "execution_count": null,
   "id": "8b95fd3f",
   "metadata": {},
   "outputs": [],
   "source": [
    "real_rt60Fs = np.array(fltrd)"
   ]
  },
  {
   "cell_type": "code",
   "execution_count": null,
   "id": "73bbdf07",
   "metadata": {},
   "outputs": [],
   "source": [
    "plt.figure(figsize=[8,12])\n",
    "for i, band in enumerate(bands):\n",
    "    plt.subplot(5,2, i+1)\n",
    "    plt.hist(real_rt60Fs[:, i], 100);\n",
    "    plt.grid(True)\n",
    "    plt.xlabel('RT60['+str(band)+'Hz]')\n",
    "    plt.ylabel('count')\n",
    "    plt.tight_layout()"
   ]
  },
  {
   "cell_type": "code",
   "execution_count": null,
   "id": "f03082b7",
   "metadata": {},
   "outputs": [],
   "source": [
    "# We will model each exponential for each sub-band\n",
    "alphas = []\n",
    "locs = []\n",
    "betas = []\n",
    "sim_rt60Fs = []\n",
    "abs_rt60Fs = []\n",
    "for idx, band in enumerate(real_rt60Fs.T):\n",
    "    fit_alpha, fit_loc, fit_beta = ss.gamma.fit(band)\n",
    "    alphas.append(fit_alpha)\n",
    "    betas.append(fit_beta)\n",
    "    locs.append(fit_loc)\n",
    "    sim_rt60Fs.append(ss.gamma.rvs(fit_alpha, fit_loc, fit_beta, size=100000))\n",
    "    abs_rt60Fs.append(ss.gamma.rvs(fit_alpha, 0, fit_beta, size=100000))"
   ]
  },
  {
   "cell_type": "code",
   "execution_count": null,
   "id": "f89d6f03",
   "metadata": {},
   "outputs": [],
   "source": [
    "sim_rt60Fs = np.array(sim_rt60Fs).T\n",
    "abs_rt60Fs = np.array(abs_rt60Fs).T"
   ]
  },
  {
   "cell_type": "code",
   "execution_count": null,
   "id": "977aba7a",
   "metadata": {
    "scrolled": true
   },
   "outputs": [],
   "source": [
    "plt.figure(figsize=[8,12])\n",
    "for i, band in enumerate(bands):\n",
    "    plt.subplot(5,2, i+1)\n",
    "    plt.hist(real_rt60Fs[:, i], 100, density=True, alpha=0.5);\n",
    "    plt.hist(sim_rt60Fs[:, i], 100, density=True, alpha=0.5);\n",
    "    #plt.hist(abs_rt60Fs[:, i], 100, density=True, alpha=0.5);\n",
    "    plt.legend(['real', 'sim'])\n",
    "    plt.grid(True)\n",
    "    plt.xlabel('RT60['+str(band)+'Hz]')\n",
    "    plt.ylabel('count')\n",
    "    plt.tight_layout()\n",
    "    plt.xlim([0,3])\n",
    "plt.savefig('rt60Fs_sampling_distribution.pdf')"
   ]
  },
  {
   "cell_type": "code",
   "execution_count": null,
   "id": "a3f80568",
   "metadata": {},
   "outputs": [],
   "source": [
    "alphas"
   ]
  },
  {
   "cell_type": "code",
   "execution_count": null,
   "id": "a3b4fab9",
   "metadata": {},
   "outputs": [],
   "source": [
    "betas"
   ]
  },
  {
   "cell_type": "code",
   "execution_count": null,
   "id": "b767cb9a",
   "metadata": {},
   "outputs": [],
   "source": [
    "# now we adapt the function to generate a single rt60 vector online\n",
    "def get_6band_rt60_vector():\n",
    "    np.random.seed() #we randomize so multiprocessing doesn't yield same RT60s\n",
    "    alphas = np.array([1.7196874268124676,\n",
    "                         1.6152228672267106,\n",
    "                         1.9318203836226113,\n",
    "                         2.55718115999814,\n",
    "                         4.176814897493042,\n",
    "                         2.4892656080814346])\n",
    "    betas = np.array([0.38685390302225775,\n",
    "                         0.24453641709737417,\n",
    "                         0.14321372785643122,\n",
    "                         0.10453218827453133,\n",
    "                         0.08678871224845529,\n",
    "                         0.18290733668646034])\n",
    "    sim_rt60Fs = []\n",
    "    for i in range(len(alphas)):\n",
    "        sim_rt60Fs.append(np.random.gamma(alphas[i], betas[i], 1))\n",
    "    return np.array(sim_rt60Fs).squeeze()"
   ]
  },
  {
   "cell_type": "code",
   "execution_count": null,
   "id": "95c08772-cdb5-433c-b758-4363b2c4bb3e",
   "metadata": {},
   "outputs": [],
   "source": [
    "get_6band_rt60_vector()"
   ]
  }
 ],
 "metadata": {
  "kernelspec": {
   "display_name": "LibriMix3D",
   "language": "python",
   "name": "librimix3d"
  },
  "language_info": {
   "codemirror_mode": {
    "name": "ipython",
    "version": 3
   },
   "file_extension": ".py",
   "mimetype": "text/x-python",
   "name": "python",
   "nbconvert_exporter": "python",
   "pygments_lexer": "ipython3",
   "version": "3.8.10"
  }
 },
 "nbformat": 4,
 "nbformat_minor": 5
}
