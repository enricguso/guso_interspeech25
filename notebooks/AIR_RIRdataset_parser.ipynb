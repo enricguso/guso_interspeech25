{
 "cells": [
  {
   "cell_type": "code",
   "execution_count": 1,
   "id": "e9c41a1d-34ac-4a9f-9908-26ddf2430f31",
   "metadata": {},
   "outputs": [
    {
     "name": "stderr",
     "output_type": "stream",
     "text": [
      "/home/ubuntu/enric/venvs/dns/lib/python3.8/site-packages/df/io.py:9: UserWarning: `torchaudio.backend.common.AudioMetaData` has been moved to `torchaudio.AudioMetaData`. Please update the import path.\n",
      "  from torchaudio.backend.common import AudioMetaData\n"
     ]
    }
   ],
   "source": [
    "import torch\n",
    "from torch.utils.data import Dataset, DataLoader\n",
    "import torch.nn.functional as F\n",
    "import torchaudio\n",
    "from os.path import join as pjoin\n",
    "import matplotlib.pyplot as plt\n",
    "import os\n",
    "import tqdm\n",
    "import time\n",
    "from IPython.display import Audio #listen: ipd.Audio(real.detach().cpu().numpy(), rate=FS)\n",
    "import numpy as np\n",
    "import scipy\n",
    "import scipy.signal as sig\n",
    "import pandas as pd\n",
    "import torchmetrics.audio as M\n",
    "from speechmos import dnsmos\n",
    "from datetime import datetime\n",
    "\n",
    "def rep_list(short, long):\n",
    "    reps = int(np.ceil(len(long) / len(short)))\n",
    "    short *= reps\n",
    "    short = short[:len(long)]\n",
    "    return short\n",
    "    \n",
    "def plot_tensor(x):\n",
    "    plt.plot(x.cpu().detach().numpy())\n",
    "\n",
    "def extend_signal(signal, target_length):\n",
    "    \"\"\"\n",
    "    Extend a signal by repeating it if it's shorter than the target length.\n",
    "    \n",
    "    Args:\n",
    "    signal (torch.Tensor): Input signal.\n",
    "    target_length (int): Desired length of the extended signal.\n",
    "\n",
    "    Returns:\n",
    "    torch.Tensor: Extended signal.\n",
    "    \"\"\"\n",
    "    current_length = signal.size(0)\n",
    "    if current_length < target_length:\n",
    "        repetitions = target_length // current_length\n",
    "        remainder = target_length % current_length\n",
    "        extended_signal = signal.repeat(repetitions)\n",
    "        if remainder > 0:\n",
    "            extended_signal = torch.cat((extended_signal, signal[:remainder]), dim=0)\n",
    "        return extended_signal\n",
    "    else:\n",
    "        return signal\n",
    "\n",
    "def load_audio(apath):\n",
    "    audio, fs = torchaudio.load(apath)\n",
    "    if fs != FS:\n",
    "        #print('resampling')\n",
    "        resampler = torchaudio.transforms.Resample(fs, FS)\n",
    "        audio = resampler(audio)    \n",
    "    if len(audio.shape) > 1:\n",
    "            audio = audio[0,:]\n",
    "    return audio\n",
    "\n",
    "def power(signal):\n",
    "    return np.mean(signal**2)"
   ]
  },
  {
   "cell_type": "code",
   "execution_count": 2,
   "id": "2d2d8dd7-ba3c-462d-844d-6aaf8e4a7923",
   "metadata": {},
   "outputs": [],
   "source": [
    "FS = 48000\n",
    "DURATION = 4 #time in seconds of the eval chunk\n",
    "TRAINRIR_NAMES = {'D01_sb_none_NH_mono': 'singleband' , 'D02_mb_none_NH_mono': 'multiband', \n",
    "            'D03_mb_rec_NH_left': 'recdirectivity', 'D05_mb_srcrec_NH_left': 'recsourcedirectivity',\n",
    "            'D00_DNS5': 'DNS5'}\n",
    "\n",
    "use_gpu = True\n",
    "if torch.cuda.is_available() and use_gpu:\n",
    "    TORCH_DEVICE = \"cuda\"\n",
    "else:\n",
    "    TORCH_DEVICE = \"cpu\"\n",
    "\n",
    "batch_size = 1\n",
    "num_workers = 8\n",
    "reverberant_noises = True\n",
    "speech_path = '/home/ubuntu/Data/DFN/textfiles/test_set.txt'\n",
    "noise_path = '/home/ubuntu/Data/DFN/textfiles/test_set_noise.txt'\n",
    "dns_mos_path = '/home/ubuntu/enric/DNS-Challenge/DNSMOS/DNSMOS'\n"
   ]
  },
  {
   "cell_type": "code",
   "execution_count": 50,
   "id": "e4554e1c-8fdd-416d-80ed-9037a2378f7a",
   "metadata": {},
   "outputs": [],
   "source": [
    "air_path = '/home/ubuntu/Data/AIR_1_4'\n",
    "air_rirs = os.listdir(air_path)"
   ]
  },
  {
   "cell_type": "code",
   "execution_count": 51,
   "id": "9d1f35a4-59dc-49ca-baf2-885a2119e6d7",
   "metadata": {},
   "outputs": [],
   "source": [
    "bin_rirs = []\n",
    "for x in air_rirs:\n",
    "    if 'binaural' in x:\n",
    "        bin_rirs.append(x)"
   ]
  },
  {
   "cell_type": "code",
   "execution_count": 52,
   "id": "d7850745-46d1-4bd9-9bd1-4d399e1ee957",
   "metadata": {},
   "outputs": [],
   "source": [
    "bin_rir_paths.sort()"
   ]
  },
  {
   "cell_type": "code",
   "execution_count": 60,
   "id": "9abcbacc-9c24-4615-ae05-c686aa24fd0c",
   "metadata": {},
   "outputs": [],
   "source": [
    "left_bin_rirs = []\n",
    "for bin_rir_path in bin_rir_paths:\n",
    "    if scipy.io.loadmat(pjoin(air_path, bin_rir_path))['air_info'][0][0][5] == 1:\n",
    "        left_bin_rirs.append(scipy.io.loadmat(pjoin(air_path, bin_rirs[1]))['h_air'][0])\n",
    "        "
   ]
  },
  {
   "cell_type": "code",
   "execution_count": 61,
   "id": "7093169e-353d-4e10-9554-06a33a9ee55a",
   "metadata": {
    "scrolled": true
   },
   "outputs": [],
   "source": [
    "left_bin_rirs = np.array(left_bin_rirs)"
   ]
  },
  {
   "cell_type": "code",
   "execution_count": 62,
   "id": "aebab615-2323-49b7-ab9d-58b508c436d6",
   "metadata": {},
   "outputs": [
    {
     "data": {
      "text/plain": [
       "(100, 479376)"
      ]
     },
     "execution_count": 62,
     "metadata": {},
     "output_type": "execute_result"
    }
   ],
   "source": [
    "left_bin_rirs.shape"
   ]
  },
  {
   "cell_type": "code",
   "execution_count": 68,
   "id": "c870082f-7a87-4e8d-a15e-df110d083a87",
   "metadata": {},
   "outputs": [],
   "source": [
    "for i, rir in enumerate(left_bin_rirs):\n",
    "    torchaudio.save(uri=pjoin(pjoin(air_path, 'left_bin_rirs'), 'leftBrir_'+str(i)+'.wav'), src=torch.from_numpy(rir).unsqueeze(0), sample_rate=48000)"
   ]
  },
  {
   "cell_type": "code",
   "execution_count": 75,
   "id": "11c44f6b-5bbd-4404-bd32-e4435fb42155",
   "metadata": {},
   "outputs": [],
   "source": [
    "left_bin_rirs = [pjoin(pjoin(air_path, 'left_bin_rirs'), x) for x in  os.listdir(pjoin(air_path, 'left_bin_rirs'))]"
   ]
  },
  {
   "cell_type": "code",
   "execution_count": 76,
   "id": "e6e7c675-46ad-4a11-8694-56b792b7b8a3",
   "metadata": {},
   "outputs": [],
   "source": [
    "with open('AIR_brirs_left.txt', 'w') as file:\n",
    "    # Write each item on a new line\n",
    "    for item in left_bin_rirs:\n",
    "        file.write(f\"{item}\\n\")"
   ]
  },
  {
   "cell_type": "code",
   "execution_count": null,
   "id": "0e181c48-3c83-4038-8ca7-ffcaa7fcb382",
   "metadata": {},
   "outputs": [],
   "source": []
  },
  {
   "cell_type": "code",
   "execution_count": null,
   "id": "2057907c-1f19-4f44-b59a-398020daac62",
   "metadata": {},
   "outputs": [],
   "source": []
  },
  {
   "cell_type": "code",
   "execution_count": null,
   "id": "3762b006-2658-4ab1-8e1d-c6c763e8b210",
   "metadata": {},
   "outputs": [],
   "source": []
  }
 ],
 "metadata": {
  "kernelspec": {
   "display_name": "dns",
   "language": "python",
   "name": "dns"
  },
  "language_info": {
   "codemirror_mode": {
    "name": "ipython",
    "version": 3
   },
   "file_extension": ".py",
   "mimetype": "text/x-python",
   "name": "python",
   "nbconvert_exporter": "python",
   "pygments_lexer": "ipython3",
   "version": "3.8.10"
  }
 },
 "nbformat": 4,
 "nbformat_minor": 5
}
