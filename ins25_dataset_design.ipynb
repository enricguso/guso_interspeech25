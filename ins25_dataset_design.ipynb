{
 "cells": [
  {
   "cell_type": "markdown",
   "id": "77da5d49",
   "metadata": {},
   "source": [
    "# Meta-data generation script for Interspeech2024 speech enhancement dataset\n",
    "\n",
    "Define RIRs for the dataset. 60.000 utterances, 70% 15% 15%"
   ]
  },
  {
   "cell_type": "code",
   "execution_count": 1,
   "id": "979138dd",
   "metadata": {},
   "outputs": [],
   "source": [
    "import masp as srs\n",
    "import numpy as np\n",
    "import soundfile as sf\n",
    "from IPython.display import Audio\n",
    "import scipy\n",
    "import copy\n",
    "import pandas as pd\n",
    "import os\n",
    "from os.path import join as pjoin\n",
    "from multiprocessing import Pool\n",
    "import matplotlib.pyplot as plt\n",
    "#import mat73\n",
    "import librosa as lsa\n",
    "import scipy.signal as sig"
   ]
  },
  {
   "cell_type": "code",
   "execution_count": 2,
   "id": "336b18b9-8004-46d0-9b28-00a6c258c317",
   "metadata": {},
   "outputs": [],
   "source": [
    "def get_6band_rt60_vector():\n",
    "    # We genearate a multiband RT60 vector. Check 'notebooks/RT60_analysis_AEC.ipynb' \n",
    "    # for more info \n",
    "    np.random.seed() #we randomize so multiprocessing doesn't yield same RT60s\n",
    "    alphas = np.array([1.7196874268124676,\n",
    "                         1.6152228672267106,\n",
    "                         1.9318203836226113,\n",
    "                         2.55718115999814,\n",
    "                         4.176814897493042,\n",
    "                         2.4892656080814346])\n",
    "    betas = np.array([0.38685390302225775,\n",
    "                         0.24453641709737417,\n",
    "                         0.14321372785643122,\n",
    "                         0.10453218827453133,\n",
    "                         0.08678871224845529,\n",
    "                         0.18290733668646034])\n",
    "    sim_rt60Fs = []\n",
    "    for i in range(len(alphas)):\n",
    "        sim_rt60Fs.append(np.random.gamma(alphas[i], betas[i], 1))\n",
    "    return np.array(sim_rt60Fs).squeeze()\n",
    "\n",
    "\n",
    "def place_on_circle(head_pos,r,azi, ele):\n",
    "# place a source around the reference point (like head)\n",
    "    azi_rad = (azi) * (np.pi / 180)\n",
    "    ele_rad = ele * np.pi / 180\n",
    "    x_coord=head_pos[0]+r*np.cos(ele_rad) * np.cos(azi_rad)\n",
    "    y_coord=head_pos[1]+r*np.cos(ele_rad) * np.sin(azi_rad)\n",
    "    z_coord=head_pos[2]+r*np.sin(ele_rad)\n",
    "    src_pos=np.array([x_coord, y_coord, z_coord]) \n",
    "    return src_pos"
   ]
  },
  {
   "cell_type": "code",
   "execution_count": 3,
   "id": "6db18336-1307-4d09-97de-d1e248fb0083",
   "metadata": {},
   "outputs": [],
   "source": [
    "np.random.seed(0)"
   ]
  },
  {
   "cell_type": "code",
   "execution_count": 4,
   "id": "197d7b6c-00de-49d5-a86b-34da1703ee37",
   "metadata": {},
   "outputs": [],
   "source": [
    "n_utterances = 60000"
   ]
  },
  {
   "cell_type": "code",
   "execution_count": 5,
   "id": "22e1f544-524c-475a-898d-7e1748799348",
   "metadata": {},
   "outputs": [],
   "source": [
    "rt60s = []\n",
    "for i in range(n_utterances):\n",
    "    rt60s.append(get_6band_rt60_vector())\n",
    "rt60s = np.array(rt60s)"
   ]
  },
  {
   "cell_type": "code",
   "execution_count": 6,
   "id": "7e45e6c8-4180-4346-8441-70a6e669d518",
   "metadata": {},
   "outputs": [
    {
     "data": {
      "text/plain": [
       "(60000, 6)"
      ]
     },
     "execution_count": 6,
     "metadata": {},
     "output_type": "execute_result"
    }
   ],
   "source": [
    "rt60s.shape"
   ]
  },
  {
   "cell_type": "code",
   "execution_count": 7,
   "id": "7129e419-4eb0-4cc6-aeef-2183b90d88d1",
   "metadata": {},
   "outputs": [],
   "source": [
    "band_centerfreqs = np.zeros((6))\n",
    "band_centerfreqs[0] = 125\n",
    "for nb in range(5):\n",
    "    band_centerfreqs[nb+1] = 2 * band_centerfreqs[nb]"
   ]
  },
  {
   "cell_type": "code",
   "execution_count": 8,
   "id": "a89a8968-df57-45d8-a939-fe84adb32ce2",
   "metadata": {},
   "outputs": [
    {
     "data": {
      "text/plain": [
       "60000"
      ]
     },
     "execution_count": 8,
     "metadata": {},
     "output_type": "execute_result"
    }
   ],
   "source": [
    "len(rt60s)"
   ]
  },
  {
   "cell_type": "code",
   "execution_count": 9,
   "id": "e7f0af2f-9fad-4823-8510-8474d2a8e07c",
   "metadata": {},
   "outputs": [],
   "source": [
    "rt60 = np.array([np.mean(x) for x in rt60s])"
   ]
  },
  {
   "cell_type": "code",
   "execution_count": 10,
   "id": "f36076a6-b380-49dc-bac4-4ee00222b521",
   "metadata": {},
   "outputs": [
    {
     "data": {
      "text/plain": [
       "0.09242059579147861"
      ]
     },
     "execution_count": 10,
     "metadata": {},
     "output_type": "execute_result"
    }
   ],
   "source": [
    "np.min(rt60)"
   ]
  },
  {
   "cell_type": "code",
   "execution_count": 11,
   "id": "fd220ed8-25cf-4f0d-8845-585e68405b97",
   "metadata": {},
   "outputs": [
    {
     "data": {
      "text/plain": [
       "1.2455474143266876"
      ]
     },
     "execution_count": 11,
     "metadata": {},
     "output_type": "execute_result"
    }
   ],
   "source": [
    "np.max(rt60)"
   ]
  },
  {
   "cell_type": "code",
   "execution_count": null,
   "id": "43132af6-86cd-4ff9-b65b-6acb23cb60ff",
   "metadata": {},
   "outputs": [],
   "source": [
    "plt.hist(rt60s[:, 0], 500, density=True,alpha=0.8);\n",
    "plt.hist(rt60s[:, 1], 500, density=True,alpha=0.8);\n",
    "plt.hist(rt60s[:, 2], 500, density=True,alpha=0.8);\n",
    "plt.hist(rt60s[:, 3], 500, density=True,alpha=0.8);\n",
    "plt.hist(rt60s[:, 4], 500, density=True,alpha=0.8);\n",
    "plt.hist(rt60s[:, 5], 500, density=True,alpha=0.8);\n",
    "plt.hist(rt60, 500, density=True, alpha=0.8);\n",
    "\n",
    "plt.legend([str(int(x))+'Hz' for x in band_centerfreqs] + ['mean'])\n",
    "#plt.title('RT60 histogram')\n",
    "plt.xlabel('RT60[s]')\n",
    "plt.ylabel('count')\n",
    "plt.xlim([0, 2])\n",
    "plt.grid(True)"
   ]
  },
  {
   "cell_type": "code",
   "execution_count": null,
   "id": "d8cef8ee-c1f7-4849-a304-aa5f2535e34f",
   "metadata": {},
   "outputs": [],
   "source": [
    "def head_2_ku_ears(head_pos,head_orient):\n",
    "# based on head pos and orientation, compute coordinates of ears\n",
    "    ear_distance_ku100=0.0875\n",
    "    theta = (head_orient[0]) * np.pi / 180\n",
    "    R_ear = [head_pos[0] - ear_distance_ku100 * np.sin(theta),\n",
    "              head_pos[1] + ear_distance_ku100 * np.cos(theta), \n",
    "              head_pos[2]]\n",
    "    L_ear = [head_pos[0] + ear_distance_ku100 * np.sin(theta),\n",
    "              head_pos[1] - ear_distance_ku100 * np.cos(theta), \n",
    "              head_pos[2]]\n",
    "    return [L_ear,R_ear]\n",
    "    \n",
    "def plot_scene(room_dims,head_pos,head_orient,l_mic_pos,l_src_pos, src_orient, perspective=\"xy\"):\n",
    "#   function to plot the designed scene\n",
    "#   room_dims - dimensions of the room [x,y,z]\n",
    "#   head_pos - head position [x,y,z]\n",
    "#   head_orient - [az,el]\n",
    "#   l_src_pos - list of source positions [[x,y,z],...,[x,y,z]]\n",
    "#   perspective - which two dimensions to show \n",
    "    if perspective==\"xy\":\n",
    "        dim1=1\n",
    "        dim2=0\n",
    "    elif perspective==\"yz\":\n",
    "        dim1=2\n",
    "        dim2=1\n",
    "    elif perspective==\"xz\":\n",
    "        dim1=2\n",
    "        dim2=0\n",
    "    fig = plt.figure()\n",
    "    ax = fig.add_subplot()\n",
    "    plt.xlim((0,room_dims[dim1]))\n",
    "    plt.ylim((0,room_dims[dim2]))\n",
    "    plt.axvline(head_pos[dim1], color='y') # horizontal lines\n",
    "    plt.axhline(head_pos[dim2], color='y') # vertical lines\n",
    "    plt.grid(True)\n",
    "    # plot sources and receivers\n",
    "    plt.plot(head_pos[dim1],head_pos[dim2], \"o\", ms=10, mew=2, color=\"black\")\n",
    "    # plot ears\n",
    "    plt.plot(l_mic_pos[0][dim1],l_mic_pos[0][dim2], \"o\", ms=3, mew=2, color=\"blue\")# left ear in blue\n",
    "    plt.plot(l_mic_pos[1][dim1],l_mic_pos[1][dim2], \"o\", ms=3, mew=2, color=\"red\")# right ear in red\n",
    "\n",
    "    for i,src_pos in enumerate(l_src_pos):\n",
    "        plt.plot(src_pos[dim1],src_pos[dim2], \"o\", ms=10, mew=2, color=\"red\")\n",
    "        plt.annotate(str(i), (src_pos[dim1],src_pos[dim2]))\n",
    "    # plot head orientation if looking from above \n",
    "    if perspective==\"xy\":\n",
    "        plt.plot(head_pos[dim1],head_pos[dim2], marker=(1, 1, -head_orient[0]), ms=20, mew=2,color=\"black\")\n",
    "        plt.plot(src_pos[dim1],src_pos[dim2], marker=(1, 1, -src_orient[0]), ms=20, mew=2,color=\"red\")\n",
    "\n",
    "    ax.set_aspect('equal', adjustable='box')\n"
   ]
  },
  {
   "cell_type": "code",
   "execution_count": null,
   "id": "e3943796-78f6-476d-b48b-c2535cf53ce0",
   "metadata": {},
   "outputs": [],
   "source": [
    "head_orient_azi = np.random.uniform(low = -180, high = 175, size = n_utterances)\n",
    "head_orient_ele = np.random.uniform(low = -25, high = 20, size = n_utterances)\n",
    "\n",
    "\n",
    "#angle = np.random.uniform(low = -45, high = 45, size = len(df))\n",
    "dist = np.random.uniform(low = 0.5, high = 3, size = n_utterances)\n",
    "#snr = np.random.uniform(low = 0, high = 6, size = len(df))"
   ]
  },
  {
   "cell_type": "code",
   "execution_count": null,
   "id": "ffaf5f96-ea61-4d49-8e24-4aadd792af68",
   "metadata": {},
   "outputs": [],
   "source": [
    "room_x = np.random.uniform(low = 3., high = 30., size = n_utterances)\n",
    "room_y = room_x * np.random.uniform(low=0.5, high=1, size=n_utterances) #avoid tunnels\n",
    "room_z = np.random.uniform(low = 2.5, high = 5., size = n_utterances)"
   ]
  },
  {
   "cell_type": "code",
   "execution_count": null,
   "id": "b8145cb8-fc30-486e-8c0d-70919452a44d",
   "metadata": {},
   "outputs": [],
   "source": [
    "#\n",
    "volumes = room_x * room_y * room_z\n",
    "volumes = np.sort(volumes)"
   ]
  },
  {
   "cell_type": "code",
   "execution_count": null,
   "id": "d0cda671-b7b1-42cd-9a9e-0a5be8a29a79",
   "metadata": {},
   "outputs": [],
   "source": [
    "#we also sort rt60 maximum values by volume"
   ]
  },
  {
   "cell_type": "code",
   "execution_count": null,
   "id": "9b9bc38c-528f-4cc8-9d96-37514b4d4243",
   "metadata": {},
   "outputs": [],
   "source": [
    "volumes"
   ]
  },
  {
   "cell_type": "code",
   "execution_count": null,
   "id": "1b844b43-e263-4fbd-b06d-213a237b23c3",
   "metadata": {},
   "outputs": [],
   "source": [
    "perm_rt60s = np.argsort(np.max(rt60s, 1))"
   ]
  },
  {
   "cell_type": "code",
   "execution_count": null,
   "id": "e1bf3bcd-3e69-4139-9054-8fe06fe228cd",
   "metadata": {},
   "outputs": [],
   "source": [
    "rt60 = rt60[perm_rt60s]"
   ]
  },
  {
   "cell_type": "code",
   "execution_count": null,
   "id": "f5d34703-d89b-4f59-841a-307607a272cf",
   "metadata": {},
   "outputs": [],
   "source": [
    "rt60s.shape"
   ]
  },
  {
   "cell_type": "code",
   "execution_count": null,
   "id": "6454cf54-55db-4c33-b966-982fc1ab80a3",
   "metadata": {},
   "outputs": [],
   "source": [
    "for i in range(6):\n",
    "    rt60s[:, i] = rt60s[perm_rt60s, i]"
   ]
  },
  {
   "cell_type": "code",
   "execution_count": null,
   "id": "98a6f43c-e529-49c4-949d-fd005a4941da",
   "metadata": {},
   "outputs": [],
   "source": [
    "dist = np.sort(dist)\n",
    "perm = np.random.permutation(len(volumes))"
   ]
  },
  {
   "cell_type": "code",
   "execution_count": null,
   "id": "45c65d6c-b677-4f0e-a005-5dc27f8aba8a",
   "metadata": {},
   "outputs": [],
   "source": [
    "room_x = room_x[perm]\n",
    "room_y = room_y[perm]\n",
    "room_z = room_z[perm]\n",
    "dist = dist[perm]\n",
    "rt60 = rt60[perm]\n",
    "for i in range(6):\n",
    "    rt60s[:, i] = rt60s[perm, i]\n",
    "head_pos = []\n",
    "for k in range(len(room_x)):\n",
    "    head_pos.append(np.array([np.random.uniform(low = 0.35*room_x[k], high = 0.65*room_x[k]),\n",
    "                        np.random.uniform(low = 0.35*room_y[k], high = 0.65*room_y[k]),\n",
    "                        np.random.uniform(low = 1., high = 2.)]))\n",
    "head_pos = np.array(head_pos)\n",
    "room = np.array((room_x, room_y, room_z)).T"
   ]
  },
  {
   "cell_type": "code",
   "execution_count": null,
   "id": "5600c5d5-5f2b-44a6-8970-0057e431b2c1",
   "metadata": {},
   "outputs": [],
   "source": [
    "srcs = []\n",
    "\n",
    "src_target_azi = np.random.uniform(low = -45., high = 45., size = n_utterances)\n",
    "src_target_ele = np.random.uniform(low = -20., high = 20., size = n_utterances)\n",
    "\n",
    "for k in range(len(room_x)):\n",
    "    #target_pos.append(hlp.place_on_circle_in_room(head_pos[k], dist[k], \n",
    "    #                                                           angle[k]+head_orient_azi[k], room[k]))\n",
    "    #target_pos = np.squeeze(np.array(target_pos))\n",
    "    src_pos = place_on_circle(head_pos[k], dist[k], head_orient_azi[k] + src_target_azi[k], head_orient_ele[k] + src_target_ele[k])\n",
    "    src_pos[src_pos < 0.2] = 0.2              \n",
    "    while np.any(src_pos > room[k] - 0.2):\n",
    "        dist[k]*=0.9\n",
    "        src_pos = place_on_circle(head_pos[k], dist[k], head_orient_azi[k] + src_target_azi[k], head_orient_ele[k] + src_target_ele[k])\n",
    "        src_pos[src_pos < 0.2] = 0.2 \n",
    "        print('correcting to r ', dist[k])\n",
    "    srcs.append(src_pos)\n",
    "srcs = np.array(srcs)"
   ]
  },
  {
   "cell_type": "code",
   "execution_count": null,
   "id": "dd21b608-7020-4593-9863-80a1e2edc626",
   "metadata": {},
   "outputs": [],
   "source": [
    "src_azi_dis = np.random.uniform(low = -45., high = 45., size = n_utterances)\n",
    "src_ele_dis = np.random.uniform(low = -20., high = 20., size = n_utterances)"
   ]
  },
  {
   "cell_type": "code",
   "execution_count": null,
   "id": "dd31ac63-d2ee-4115-b2a1-19263794b6fe",
   "metadata": {},
   "outputs": [],
   "source": [
    "src_azi = np.zeros_like(src_azi_dis)\n",
    "src_ele = np.zeros_like(src_ele_dis)"
   ]
  },
  {
   "cell_type": "code",
   "execution_count": null,
   "id": "0c77c86e-9413-4fb4-80fd-e4c32dd7be7a",
   "metadata": {},
   "outputs": [],
   "source": [
    "for k in range(n_utterances):\n",
    "    src_azi[k] = head_orient_azi[k] + src_azi_dis[k] + 180\n",
    "    src_ele[k] = head_orient_ele[k] + src_ele_dis[k] + 90\n",
    "    if src_azi[k] < - 180:\n",
    "        src_azi[k] += 360\n",
    "    elif src_azi[k] > 180:\n",
    "        src_azi[k] -= 360\n",
    "    if src_azi[k] == 180:\n",
    "        src_azi[k] = -180\n",
    "        \n",
    "    if src_ele[k] < - 180:\n",
    "        src_ele[k] += 360\n",
    "    elif src_ele[k] > 180:\n",
    "        src_ele[k] -= 360\n",
    "    if src_ele[k] == 180:\n",
    "        src_ele[k] = -180"
   ]
  },
  {
   "cell_type": "code",
   "execution_count": null,
   "id": "82885277-8479-42c3-b475-74fd55e5bc57",
   "metadata": {},
   "outputs": [],
   "source": [
    "head_orient_azi"
   ]
  },
  {
   "cell_type": "code",
   "execution_count": null,
   "id": "e54d3469-e2e1-4c3a-8ef7-98059e51dde6",
   "metadata": {},
   "outputs": [],
   "source": [
    "src_azi"
   ]
  },
  {
   "cell_type": "code",
   "execution_count": null,
   "id": "c0b95a6e-755c-48a3-9251-dc4aa9f1fd86",
   "metadata": {},
   "outputs": [],
   "source": [
    "src_azi_dis"
   ]
  },
  {
   "cell_type": "code",
   "execution_count": null,
   "id": "08830e6d",
   "metadata": {},
   "outputs": [],
   "source": [
    "# Checks:\n",
    "np.all(srcs < room) # all targets are in the room"
   ]
  },
  {
   "cell_type": "code",
   "execution_count": null,
   "id": "7e1f5f59",
   "metadata": {},
   "outputs": [],
   "source": [
    "np.all(head_pos < room) # all heads are in the room"
   ]
  },
  {
   "cell_type": "code",
   "execution_count": null,
   "id": "53ea9daa",
   "metadata": {},
   "outputs": [],
   "source": [
    "# now let's check the ears:\n",
    "ears_pos = []\n",
    "for k in range(head_pos.shape[0]):\n",
    "    ears_pos.append(np.array(head_2_ku_ears(head_pos[k], np.array([head_orient_azi[k],head_orient_ele[k]]))))\n",
    "\n",
    "ears_pos = np.array(ears_pos)"
   ]
  },
  {
   "cell_type": "code",
   "execution_count": null,
   "id": "5e078be3",
   "metadata": {},
   "outputs": [],
   "source": [
    "np.all(ears_pos[:, 0, :] < room) # all left ears are in the room"
   ]
  },
  {
   "cell_type": "code",
   "execution_count": null,
   "id": "f72fb7c7",
   "metadata": {},
   "outputs": [],
   "source": [
    "np.all(ears_pos[:, 1, :] < room) # all right are in the room"
   ]
  },
  {
   "cell_type": "code",
   "execution_count": null,
   "id": "47ee7876",
   "metadata": {},
   "outputs": [],
   "source": [
    "np.all(ears_pos > 0)"
   ]
  },
  {
   "cell_type": "code",
   "execution_count": null,
   "id": "b5550b20",
   "metadata": {},
   "outputs": [],
   "source": [
    "# final MINIMUM distance between head and target (check we don't have an intra-craneal target)\n",
    "min(np.sqrt(np.sum((srcs - head_pos)**2, axis=1))) > 0.0875 * 2"
   ]
  },
  {
   "cell_type": "code",
   "execution_count": null,
   "id": "d6a36857",
   "metadata": {},
   "outputs": [],
   "source": [
    "# minimum distance of ears against a wall\n",
    "min ( min(room[:, 0] - ears_pos[:, 0, 0]), min(room[:, 0] - ears_pos[:, 1, 0]))"
   ]
  },
  {
   "cell_type": "code",
   "execution_count": null,
   "id": "fd075f83",
   "metadata": {
    "scrolled": true
   },
   "outputs": [],
   "source": [
    "min ( min(room[:, 1] - ears_pos[:, 0, 1]), min(room[:, 1] - ears_pos[:, 1, 1]))"
   ]
  },
  {
   "cell_type": "code",
   "execution_count": null,
   "id": "d6fa0b38",
   "metadata": {},
   "outputs": [],
   "source": [
    "min ( min(room[:, 2] - ears_pos[:, 0, 2]), min(room[:, 2] - ears_pos[:, 1, 2]))"
   ]
  },
  {
   "cell_type": "code",
   "execution_count": null,
   "id": "1462969a",
   "metadata": {
    "scrolled": true
   },
   "outputs": [],
   "source": [
    "# minimum distance of targets against a wall\n",
    "min(min(room[:, 0] - srcs[:, 0]), min(room[:, 1] - srcs[:, 1]), min(room[:, 2] - srcs[:, 2]))"
   ]
  },
  {
   "cell_type": "code",
   "execution_count": null,
   "id": "73b3e29c-8c52-46ed-8c12-8847c7a03f8c",
   "metadata": {},
   "outputs": [],
   "source": [
    "np.array([src_azi, src_ele]).shape"
   ]
  },
  {
   "cell_type": "code",
   "execution_count": null,
   "id": "ee0a15c1-e043-4883-aab4-4d31113d21b6",
   "metadata": {},
   "outputs": [],
   "source": [
    "np.array([head_orient_azi[k], head_orient_ele[k]]).shape"
   ]
  },
  {
   "cell_type": "code",
   "execution_count": null,
   "id": "c9f9a03a-5851-4a5a-9fda-67fc1df6eb9a",
   "metadata": {},
   "outputs": [],
   "source": [
    "for k in range(30):\n",
    "    plot_scene(room[k],head_pos[k], np.array([head_orient_azi[k], head_orient_ele[k]]), \n",
    "               head_2_ku_ears(head_pos[k], np.array([head_orient_azi[k], head_orient_ele[k]])) ,\n",
    "               [srcs[k]], np.array([src_azi[k], src_ele[k]]), perspective=\"xy\")"
   ]
  },
  {
   "cell_type": "code",
   "execution_count": null,
   "id": "f7a1f4ef-d5f2-4c45-b26a-1ff79be9c1dd",
   "metadata": {},
   "outputs": [],
   "source": [
    "# We split into train val and test set:"
   ]
  },
  {
   "cell_type": "code",
   "execution_count": null,
   "id": "c0146abf-9c5d-48e8-b91a-e872c5bf6e66",
   "metadata": {},
   "outputs": [],
   "source": [
    "sets = ['train'] * int(n_utterances*0.7) + ['val'] * int(n_utterances*0.15)+ ['test'] * int(n_utterances*0.15)\n",
    "\n",
    "perm2 = np.random.permutation(n_utterances)\n",
    "\n",
    "sets = np.array(sets)\n",
    "\n",
    "sets = sets[perm2]\n",
    "\n",
    "# store data\n",
    "df = pd.DataFrame({'id': range(n_utterances), 'room_x': room_x, 'room_y': room_y, 'room_z': room_z, \n",
    "                   'rt60': rt60, 'rt60_125hz': rt60s[:, 0], 'rt60_250hz': rt60s[:, 1], 'rt60_500hz': rt60s[:, 2],\n",
    "                   'rt60_1000hz': rt60s[:, 3], 'rt60_2000hz': rt60s[:, 4], 'rt60_4000hz': rt60s[:, 5],\n",
    "                   'headC_x' : head_pos[:, 0], 'headC_y' : head_pos[:,1], 'headC_z' : head_pos[:, 2],\n",
    "                   'head_azi' : head_orient_azi, 'head_ele' : head_orient_ele,\n",
    "                   'src_x' : srcs[:, 0], 'src_y' : srcs[:, 1], 'src_z' : srcs[:, 2],\n",
    "                   'src_azi' : src_azi, 'src_ele' : src_ele, 'set': sets})"
   ]
  },
  {
   "cell_type": "code",
   "execution_count": null,
   "id": "700bec6a",
   "metadata": {},
   "outputs": [],
   "source": [
    "#df.to_csv('meta_ins24.csv', index=False, compression='infer')"
   ]
  }
 ],
 "metadata": {
  "kernelspec": {
   "display_name": "in25",
   "language": "python",
   "name": "in25"
  },
  "language_info": {
   "codemirror_mode": {
    "name": "ipython",
    "version": 3
   },
   "file_extension": ".py",
   "mimetype": "text/x-python",
   "name": "python",
   "nbconvert_exporter": "python",
   "pygments_lexer": "ipython3",
   "version": "3.8.10"
  }
 },
 "nbformat": 4,
 "nbformat_minor": 5
}
